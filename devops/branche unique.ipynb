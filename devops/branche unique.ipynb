{
 "cells": [
  {
   "cell_type": "markdown",
   "id": "a0f91192",
   "metadata": {
    "slideshow": {
     "slide_type": "slide"
    }
   },
   "source": [
    "# Développer sur une branche unique\n",
    "\n",
    "## Pourquoi ?\n",
    "\n",
    "- Pouvoir utiliser git en équipe sans passer des heures à résoudre des conflits\n",
    "- S’assurer que tout le code est relu et testé avant d’être déployé et donc éviter les bugs\n",
    "- Eviter de perdre des commits parce qu’ils n’ont pas été ajoutés à la branche principale\n",
    "- Favoriser la collaboration en mettant en commun plus régulièrement les avancées\n",
    "\n",
    "__Branches create distance between developers and we do not want that.__ <br>\n",
    "*Frank Compagner, Guerrilla Games*"
   ]
  },
  {
   "cell_type": "markdown",
   "id": "84aea186",
   "metadata": {
    "slideshow": {
     "slide_type": "slide"
    }
   },
   "source": [
    "## Comment ?\n",
    "\n",
    "### La règle principale du développement sur branche unique (trunk-based development) :\n",
    "\n",
    "Aucune branche autre que la branche principale ne doit durer plus de deux à trois jours. \n",
    "\n",
    "La seule exception à cette règle sont les branches de déploiement."
   ]
  },
  {
   "cell_type": "markdown",
   "id": "55e7d98a",
   "metadata": {
    "slideshow": {
     "slide_type": "subslide"
    }
   },
   "source": [
    "### En utilisant le travail par petits lots\n",
    "\n",
    "Chaque développeur :\n",
    "1. crée une branche au début du développement de son lot\n",
    "1. ouvre une *merge request / pull request* au bout de quelques heures (max quelques jours) afin que\n",
    "1. son code soit revu et fusionné (mergé) avec la branche principale."
   ]
  },
  {
   "cell_type": "markdown",
   "id": "1b337fd5",
   "metadata": {
    "slideshow": {
     "slide_type": "subslide"
    }
   },
   "source": [
    "### “Never break the trunk”\n",
    "\n",
    "Une règle essentielle pour les développeurs : il est formellement interdit de fusionner du code non fonctionnel dans la branche principale.\n",
    "\n",
    "Si l’on s’en rend compte trop tard, il est toujours temps pour annuler (revert) la fusion (merge).\n",
    "D’où l’importance des tests unitaires et autres tests automatiques, et de la revue de code avant la fusion.\n",
    "\n",
    "__La branche principale doit toujours pouvoir être déployée telle quelle !__"
   ]
  },
  {
   "cell_type": "markdown",
   "id": "b6212312",
   "metadata": {
    "slideshow": {
     "slide_type": "subslide"
    }
   },
   "source": [
    "### Rebase interactif\n",
    "\n",
    "Avant de fusionner le code, il est conseillé de rebaser son code sur la branche principale pour rendre l’historique de git plus clair. \n",
    "\n",
    "__Ne pas squash les commits !__\n",
    "\n",
    "Utiliser le rebase interactif en local avant de push et d’ouvrir la merge request / pull request afin de supprimer les commits superflus et d’améliorer les messages de commit."
   ]
  },
  {
   "cell_type": "markdown",
   "id": "a2370a86",
   "metadata": {
    "slideshow": {
     "slide_type": "subslide"
    }
   },
   "source": [
    "### Déployer depuis la branche principale\n",
    "\n",
    "En utilisant des tags."
   ]
  },
  {
   "cell_type": "markdown",
   "id": "a6437cea",
   "metadata": {
    "slideshow": {
     "slide_type": "slide"
    }
   },
   "source": [
    "## Cas plus complexes\n",
    "\n",
    "### Comment faire si on veut déployer une ancienne version du code en y apportant un correctif ?\n",
    "\n",
    "__Ce qu'on fait:__\n",
    "1. On développe normalement le correctif en partant de la branche principale\n",
    "1. On fusionne le correctif dans la branche principale\n",
    "1. On crée une branche de déploiement depuis le tag de l'ancienne version à déployer\n",
    "1. On *cherry-pick* le (ou les) commit(s) du correctif sur la branche de release\n",
    "1. On crée un tag sur la branche de déploiement et on déploie"
   ]
  },
  {
   "cell_type": "markdown",
   "id": "4e1e7086",
   "metadata": {
    "slideshow": {
     "slide_type": "subslide"
    }
   },
   "source": [
    "__Ce qu'on ne fait JAMAIS!!!__\n",
    "- Fusionner la branche de déploiement dans la branche principale.\n",
    "- Développer directement sur la branche de déploiement."
   ]
  },
  {
   "cell_type": "markdown",
   "id": "ab82bd49",
   "metadata": {
    "slideshow": {
     "slide_type": "subslide"
    }
   },
   "source": [
    "### Que faire lorsque le travail prend plus de quelques jours ?\n",
    "\n",
    "Dans ce cas on le sépare quand-même en petits lots (et donc en petites branches que l’on fusionne de manière indépendante) mais on utilise des techniques comme les *feature flags* ou le branchage par abstraction (cf. vidéo sur le travail par petits lots).\n",
    "\n",
    "Il n’est __jamais__ justifié de laisser une branche diverger plus d’une semaine, il y a __toujours__ une meilleure manière de faire."
   ]
  }
 ],
 "metadata": {
  "celltoolbar": "Slideshow",
  "kernelspec": {
   "display_name": "Python 3",
   "language": "python",
   "name": "python3"
  },
  "language_info": {
   "codemirror_mode": {
    "name": "ipython",
    "version": 3
   },
   "file_extension": ".py",
   "mimetype": "text/x-python",
   "name": "python",
   "nbconvert_exporter": "python",
   "pygments_lexer": "ipython3",
   "version": "3.9.7"
  },
  "toc": {
   "base_numbering": 1,
   "nav_menu": {},
   "number_sections": true,
   "sideBar": true,
   "skip_h1_title": false,
   "title_cell": "Table of Contents",
   "title_sidebar": "Contents",
   "toc_cell": false,
   "toc_position": {
    "height": "calc(100% - 180px)",
    "left": "10px",
    "top": "150px",
    "width": "437px"
   },
   "toc_section_display": true,
   "toc_window_display": false
  }
 },
 "nbformat": 4,
 "nbformat_minor": 5
}
