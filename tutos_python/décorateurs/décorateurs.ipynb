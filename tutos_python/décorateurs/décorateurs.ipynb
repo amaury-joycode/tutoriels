{
 "cells": [
  {
   "cell_type": "markdown",
   "metadata": {
    "slideshow": {
     "slide_type": "slide"
    }
   },
   "source": [
    "# Introduction aux décorateurs en Python\n",
    "\n",
    "\n",
    "## Qu'est-ce qu'un décorateur?\n",
    "\n",
    "Les décorateurs en Python sont une fonctionnalité puissante qui permet de modifier ou d'étendre le comportement d'autres fonctions ou méthodes.\n"
   ]
  },
  {
   "cell_type": "markdown",
   "metadata": {
    "slideshow": {
     "slide_type": "subslide"
    }
   },
   "source": [
    "## À quoi servent les décorateurs?\n",
    "\n",
    "1. **Réutilisation de code**: Les décorateurs sont souvent utilisés pour extraire du code commun qui peut être réutilisé, afin de ne pas répéter le même code dans plusieurs endroits.\n",
    "2. **Séparation des préoccupations**: Ils vous permettent de séparer les préoccupations et d'ajouter des fonctionnalités, comme le journalisation (logging) ou la mise en cache, sans modifier le code de la fonction elle-même.\n",
    "3. **Paramétrage des fonctions**: Les décorateurs peuvent également être utilisés pour modifier les arguments passés à une fonction, ou pour modifier sa valeur de retour (peu recommandé pour des questions de maintenabilité)."
   ]
  },
  {
   "cell_type": "markdown",
   "metadata": {
    "slideshow": {
     "slide_type": "subslide"
    }
   },
   "source": [
    "## Deux types de décorateurs\n",
    "\n",
    "### Décorateur simple (sans argument)"
   ]
  },
  {
   "cell_type": "code",
   "execution_count": 1,
   "metadata": {
    "slideshow": {
     "slide_type": "-"
    }
   },
   "outputs": [
    {
     "name": "stdout",
     "output_type": "stream",
     "text": [
      "Temps d'exécution de slow_function: 2.0004734992980957 secondes\n"
     ]
    }
   ],
   "source": [
    "import time\n",
    "\n",
    "def timing_decorator(func):\n",
    "    def wrapper(*args, **kwargs):\n",
    "        start_time = time.time()\n",
    "        result = func(*args, **kwargs)\n",
    "        end_time = time.time()\n",
    "        print(f\"Temps d'exécution de {func.__name__}: {end_time - start_time} secondes\")\n",
    "        return result\n",
    "    return wrapper\n",
    "\n",
    "@timing_decorator \n",
    "def slow_function():\n",
    "    time.sleep(2)\n",
    "\n",
    "slow_function()"
   ]
  },
  {
   "cell_type": "markdown",
   "metadata": {
    "slideshow": {
     "slide_type": "subslide"
    }
   },
   "source": [
    "### Décorateur avec arguments"
   ]
  },
  {
   "cell_type": "code",
   "execution_count": 3,
   "metadata": {
    "slideshow": {
     "slide_type": "-"
    }
   },
   "outputs": [
    {
     "name": "stdout",
     "output_type": "stream",
     "text": [
      "TOTO Avant l'exécution de my_function\n",
      "Exécution de la fonction\n",
      "TOTO Après l'exécution de my_function\n"
     ]
    }
   ],
   "source": [
    "def logging_decorator(prefix):\n",
    "    def decorator(func):\n",
    "        def wrapper(*args, **kwargs):\n",
    "            print(f\"{prefix} Avant l'exécution de {func.__name__}\")\n",
    "            result = func(*args, **kwargs)\n",
    "            print(f\"{prefix} Après l'exécution de {func.__name__}\")\n",
    "            return result\n",
    "        return wrapper\n",
    "    return decorator\n",
    "\n",
    "@logging_decorator(\"TOTO\")\n",
    "def my_function():\n",
    "    print(\"Exécution de la fonction\")\n",
    "\n",
    "my_function()"
   ]
  },
  {
   "cell_type": "markdown",
   "metadata": {
    "slideshow": {
     "slide_type": "subslide"
    }
   },
   "source": [
    "## Utilisation des décorateurs pour la gestion d'erreur\n"
   ]
  },
  {
   "cell_type": "code",
   "execution_count": 7,
   "metadata": {
    "slideshow": {
     "slide_type": "-"
    }
   },
   "outputs": [
    {
     "name": "stdout",
     "output_type": "stream",
     "text": [
      "Erreur: Une erreur s'est produite. Réessayer après 2 secondes...\n",
      "Erreur: Une erreur s'est produite. Réessayer après 2 secondes...\n",
      "Succès!\n"
     ]
    }
   ],
   "source": [
    "import time\n",
    "import random\n",
    "\n",
    "def retry_decorator(max_retries=3, delay=1):\n",
    "    def decorator(func):\n",
    "        def wrapper(*args, **kwargs):\n",
    "            for _ in range(max_retries):\n",
    "                try:\n",
    "                    return func(*args, **kwargs)\n",
    "                except ValueError as e:\n",
    "                    print(f\"Erreur: {e}. Réessayer après {delay} secondes...\")\n",
    "                    time.sleep(delay)\n",
    "        return wrapper\n",
    "    return decorator\n",
    "\n",
    "@retry_decorator(max_retries=10, delay=2)\n",
    "def unreliable_function():\n",
    "    if random.random() < 0.7:\n",
    "        raise ValueError(\"Une erreur s'est produite\")\n",
    "    return \"Succès!\"\n",
    "\n",
    "print(unreliable_function())"
   ]
  },
  {
   "cell_type": "markdown",
   "metadata": {
    "slideshow": {
     "slide_type": "subslide"
    }
   },
   "source": [
    "Il existe un package python [retry](https://github.com/invl/retry) qui implemente ce genre de fonctionnalité de manière plus générique, mais si vous voulez gérer plus finement vos erreurs les décorateurs sont plus efficaces !"
   ]
  },
  {
   "cell_type": "markdown",
   "metadata": {
    "slideshow": {
     "slide_type": "slide"
    }
   },
   "source": [
    "# Exemples de décorateurs existants\n",
    "\n",
    "## Utilisation des décorateurs dans la bibliothèque standard de Python"
   ]
  },
  {
   "cell_type": "markdown",
   "metadata": {
    "slideshow": {
     "slide_type": "subslide"
    }
   },
   "source": [
    "### functools.lru_cache\n",
    "\n",
    "Le décorateur `lru_cache` de la bibliothèque standard `functools` est utilisé pour mémoiser les appels de fonction. Cela signifie qu'il stocke les résultats des appels de fonction dans un cache, de sorte que lors d'appels ultérieurs avec les mêmes arguments, les résultats sont renvoyés à partir du cache plutôt que d'exécuter à nouveau la fonction."
   ]
  },
  {
   "cell_type": "code",
   "execution_count": 8,
   "metadata": {
    "slideshow": {
     "slide_type": "-"
    }
   },
   "outputs": [
    {
     "name": "stdout",
     "output_type": "stream",
     "text": [
      "1.3 s ± 8.88 ms per loop (mean ± std. dev. of 7 runs, 1 loop each)\n"
     ]
    }
   ],
   "source": [
    "def naive_fibo(n):\n",
    "    if n < 2:\n",
    "        return n\n",
    "    return naive_fibo(n-1) + naive_fibo(n-2)\n",
    "\n",
    "%timeit naive_fibo(35)"
   ]
  },
  {
   "cell_type": "code",
   "execution_count": 10,
   "metadata": {
    "slideshow": {
     "slide_type": "subslide"
    }
   },
   "outputs": [
    {
     "name": "stdout",
     "output_type": "stream",
     "text": [
      "30.2 ns ± 0.296 ns per loop (mean ± std. dev. of 7 runs, 10,000,000 loops each)\n",
      "34.6 ns ± 0.128 ns per loop (mean ± std. dev. of 7 runs, 10,000,000 loops each)\n"
     ]
    }
   ],
   "source": [
    "from functools import lru_cache\n",
    "\n",
    "\n",
    "@lru_cache(maxsize=None)\n",
    "def fibonacci(n):\n",
    "    if n < 2:\n",
    "        return n\n",
    "    return fibonacci(n-1) + fibonacci(n-2)\n",
    "\n",
    "%timeit fibonacci(35)\n",
    "%timeit fibonacci(100)"
   ]
  },
  {
   "cell_type": "markdown",
   "metadata": {
    "slideshow": {
     "slide_type": "subslide"
    }
   },
   "source": [
    "### functools.wraps\n",
    "\n",
    "Le décorateur `wraps` dans le module `functools` est utilisé dans la définition de décorateurs personnalisés pour s'assurer que les métadonnées de la fonction d'origine sont conservées après avoir été décorées."
   ]
  },
  {
   "cell_type": "code",
   "execution_count": 13,
   "metadata": {},
   "outputs": [
    {
     "data": {
      "text/plain": [
       "\"Ceci est une fonction d'exemple\""
      ]
     },
     "execution_count": 13,
     "metadata": {},
     "output_type": "execute_result"
    }
   ],
   "source": [
    "from functools import wraps\n",
    "\n",
    "def my_decorator(f):\n",
    "    @wraps(f)\n",
    "    def wrapper(*args, **kwargs):\n",
    "        print(\"Avant l'appel de la fonction\")\n",
    "        result = f(*args, **kwargs)\n",
    "        print(\"Après l'appel de la fonction\")\n",
    "        return result\n",
    "    return wrapper\n",
    "\n",
    "@my_decorator\n",
    "def example():\n",
    "    \"\"\"Ceci est une fonction d'exemple\"\"\"\n",
    "    print(\"Exemple de fonction\")\n",
    "\n",
    "example.__doc__\n"
   ]
  },
  {
   "cell_type": "markdown",
   "metadata": {
    "slideshow": {
     "slide_type": "subslide"
    }
   },
   "source": [
    "## Utilisation dans des bibliothèques tierces\n",
    "\n",
    "### Numpy\n",
    "\n",
    "Numpy a un décorateur `vectorize`qui convertit une fonction Python ordinaire acceptant des scalaires en une fonction \"vectorisée\" qui peut agir sur des tableaux entiers."
   ]
  },
  {
   "cell_type": "code",
   "execution_count": 15,
   "metadata": {},
   "outputs": [
    {
     "data": {
      "text/plain": [
       "'array([5, 7, 9])'"
      ]
     },
     "execution_count": 15,
     "metadata": {},
     "output_type": "execute_result"
    }
   ],
   "source": [
    "import numpy as np\n",
    "\n",
    "@np.vectorize\n",
    "def add(x, y):\n",
    "    return x + y\n",
    "\n",
    "result = add(np.array([1, 2, 3]), np.array([4, 5, 6]))\n",
    "repr(result)\n"
   ]
  },
  {
   "cell_type": "markdown",
   "metadata": {
    "slideshow": {
     "slide_type": "subslide"
    }
   },
   "source": [
    "### pytest\n",
    "\n",
    "La bibliothèque de tests pytest utilise des décorateurs pour marquer les tests à sauter ou pour lesquels une erreur est attendue :"
   ]
  },
  {
   "cell_type": "code",
   "execution_count": null,
   "metadata": {},
   "outputs": [],
   "source": [
    "import pytest\n",
    "\n",
    "# sauter le test\n",
    "@pytest.mark.skip(reason=\"Il n'est pas possible de tester cette fonctionnalité pour l'instant\")\n",
    "def test_example():\n",
    "    assert False\n",
    "\n",
    "# il est attendu que le test soit invalide\n",
    "@pytest.xfail(reason=\"Cette fonctionnalité n'est pas encore implémentée\")\n",
    "def test_feature_x():\n",
    "    assert False"
   ]
  },
  {
   "cell_type": "markdown",
   "metadata": {
    "slideshow": {
     "slide_type": "subslide"
    }
   },
   "source": [
    "Le décorateur `@pytest.fixture` est utilisé pour créer des fixtures. Les fixtures sont utilisées pour fournir un état fixe et fiable à l'exécution des tests. Cela peut être pour configurer un environnement de test, créer une ressource, une connexion à une base de données, etc."
   ]
  },
  {
   "cell_type": "code",
   "execution_count": null,
   "metadata": {},
   "outputs": [],
   "source": [
    "import pytest\n",
    "\n",
    "@pytest.fixture\n",
    "def sample_data():\n",
    "    return {\"key1\": \"value1\", \"key2\": \"value2\"}\n",
    "\n",
    "def test_example_1(sample_data):\n",
    "    assert \"key1\" in sample_data\n",
    "\n",
    "def test_example_2(sample_data):\n",
    "    assert sample_data[\"key2\"] == \"value2\""
   ]
  },
  {
   "cell_type": "markdown",
   "metadata": {
    "slideshow": {
     "slide_type": "slide"
    }
   },
   "source": [
    "# FIN\n",
    "\n",
    "Si vous avez des questions ou si vous souhaitez partager d'autres exemples intéressants d'utilisation des décorateurs, mettez"
   ]
  }
 ],
 "metadata": {
  "celltoolbar": "Diaporama",
  "kernelspec": {
   "display_name": "Python 3 (ipykernel)",
   "language": "python",
   "name": "python3"
  },
  "language_info": {
   "codemirror_mode": {
    "name": "ipython",
    "version": 3
   },
   "file_extension": ".py",
   "mimetype": "text/x-python",
   "name": "python",
   "nbconvert_exporter": "python",
   "pygments_lexer": "ipython3",
   "version": "3.10.6"
  }
 },
 "nbformat": 4,
 "nbformat_minor": 2
}
