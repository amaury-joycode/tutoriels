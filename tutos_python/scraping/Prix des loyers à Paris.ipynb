{
 "cells": [
  {
   "cell_type": "markdown",
   "id": "9816442d",
   "metadata": {},
   "source": [
    "# Analyse des loyers parisiens"
   ]
  },
  {
   "cell_type": "code",
   "execution_count": 1,
   "id": "2aa1d09d",
   "metadata": {},
   "outputs": [],
   "source": [
    "import scrape\n",
    "results = scrape.parse_pages()"
   ]
  },
  {
   "cell_type": "code",
   "execution_count": 2,
   "id": "e75d7971",
   "metadata": {},
   "outputs": [
    {
     "data": {
      "text/html": [
       "<div>\n",
       "<style scoped>\n",
       "    .dataframe tbody tr th:only-of-type {\n",
       "        vertical-align: middle;\n",
       "    }\n",
       "\n",
       "    .dataframe tbody tr th {\n",
       "        vertical-align: top;\n",
       "    }\n",
       "\n",
       "    .dataframe thead th {\n",
       "        text-align: right;\n",
       "    }\n",
       "</style>\n",
       "<table border=\"1\" class=\"dataframe\">\n",
       "  <thead>\n",
       "    <tr style=\"text-align: right;\">\n",
       "      <th></th>\n",
       "      <th>loyer (€)</th>\n",
       "      <th>type</th>\n",
       "      <th>surface (m²)</th>\n",
       "      <th>nb_pieces</th>\n",
       "      <th>emplacement</th>\n",
       "      <th>description</th>\n",
       "    </tr>\n",
       "  </thead>\n",
       "  <tbody>\n",
       "    <tr>\n",
       "      <th>0</th>\n",
       "      <td>990</td>\n",
       "      <td>appartement</td>\n",
       "      <td>30</td>\n",
       "      <td>2</td>\n",
       "      <td>75016</td>\n",
       "      <td>Appartement Paris 2 pièce(s) 30 m2 - Paris 16è...</td>\n",
       "    </tr>\n",
       "    <tr>\n",
       "      <th>1</th>\n",
       "      <td>1734</td>\n",
       "      <td>appartement</td>\n",
       "      <td>60</td>\n",
       "      <td>3</td>\n",
       "      <td>75010</td>\n",
       "      <td>Rue du Faubourg Saint Martin, face à la mairie...</td>\n",
       "    </tr>\n",
       "    <tr>\n",
       "      <th>2</th>\n",
       "      <td>1150</td>\n",
       "      <td>appartement</td>\n",
       "      <td>36</td>\n",
       "      <td>2</td>\n",
       "      <td>75017</td>\n",
       "      <td>75017 paris rue cardinet face au parc martin l...</td>\n",
       "    </tr>\n",
       "    <tr>\n",
       "      <th>3</th>\n",
       "      <td>3100</td>\n",
       "      <td>appartement</td>\n",
       "      <td>92</td>\n",
       "      <td>3</td>\n",
       "      <td>75006</td>\n",
       "      <td>Institut de France rue de Seine entre cour d'h...</td>\n",
       "    </tr>\n",
       "    <tr>\n",
       "      <th>4</th>\n",
       "      <td>3550</td>\n",
       "      <td>appartement</td>\n",
       "      <td>115</td>\n",
       "      <td>4</td>\n",
       "      <td>75007</td>\n",
       "      <td>Entre les métros VANNEAU et DUROC, rue de Sèvr...</td>\n",
       "    </tr>\n",
       "    <tr>\n",
       "      <th>...</th>\n",
       "      <td>...</td>\n",
       "      <td>...</td>\n",
       "      <td>...</td>\n",
       "      <td>...</td>\n",
       "      <td>...</td>\n",
       "      <td>...</td>\n",
       "    </tr>\n",
       "    <tr>\n",
       "      <th>15</th>\n",
       "      <td>835</td>\n",
       "      <td>studio</td>\n",
       "      <td>26</td>\n",
       "      <td>1</td>\n",
       "      <td>75012</td>\n",
       "      <td>Avenue du Dr Arnold Netter - proche de la rue ...</td>\n",
       "    </tr>\n",
       "    <tr>\n",
       "      <th>16</th>\n",
       "      <td>1565</td>\n",
       "      <td>appartement</td>\n",
       "      <td>53</td>\n",
       "      <td>2</td>\n",
       "      <td>75015</td>\n",
       "      <td>- Métro Lourmel. Au 4ème étage dans une réside...</td>\n",
       "    </tr>\n",
       "    <tr>\n",
       "      <th>17</th>\n",
       "      <td>890</td>\n",
       "      <td>studio</td>\n",
       "      <td>29</td>\n",
       "      <td>1</td>\n",
       "      <td>75020</td>\n",
       "      <td>Métro PELLEPORT Dans un immeuble récent bien t...</td>\n",
       "    </tr>\n",
       "    <tr>\n",
       "      <th>18</th>\n",
       "      <td>1529</td>\n",
       "      <td>appartement</td>\n",
       "      <td>58</td>\n",
       "      <td>2</td>\n",
       "      <td>75012</td>\n",
       "      <td>Dans résidence avec gardien, bel appartement t...</td>\n",
       "    </tr>\n",
       "    <tr>\n",
       "      <th>19</th>\n",
       "      <td>1614</td>\n",
       "      <td>appartement</td>\n",
       "      <td>58</td>\n",
       "      <td>2</td>\n",
       "      <td>75012</td>\n",
       "      <td>Dans résidence avec gardien, bel appartement t...</td>\n",
       "    </tr>\n",
       "  </tbody>\n",
       "</table>\n",
       "<p>401 rows × 6 columns</p>\n",
       "</div>"
      ],
      "text/plain": [
       "    loyer (€)         type  surface (m²)  nb_pieces emplacement  \\\n",
       "0         990  appartement            30          2       75016   \n",
       "1        1734  appartement            60          3       75010   \n",
       "2        1150  appartement            36          2       75017   \n",
       "3        3100  appartement            92          3       75006   \n",
       "4        3550  appartement           115          4       75007   \n",
       "..        ...          ...           ...        ...         ...   \n",
       "15        835       studio            26          1       75012   \n",
       "16       1565  appartement            53          2       75015   \n",
       "17        890       studio            29          1       75020   \n",
       "18       1529  appartement            58          2       75012   \n",
       "19       1614  appartement            58          2       75012   \n",
       "\n",
       "                                          description  \n",
       "0   Appartement Paris 2 pièce(s) 30 m2 - Paris 16è...  \n",
       "1   Rue du Faubourg Saint Martin, face à la mairie...  \n",
       "2   75017 paris rue cardinet face au parc martin l...  \n",
       "3   Institut de France rue de Seine entre cour d'h...  \n",
       "4   Entre les métros VANNEAU et DUROC, rue de Sèvr...  \n",
       "..                                                ...  \n",
       "15  Avenue du Dr Arnold Netter - proche de la rue ...  \n",
       "16  - Métro Lourmel. Au 4ème étage dans une réside...  \n",
       "17  Métro PELLEPORT Dans un immeuble récent bien t...  \n",
       "18  Dans résidence avec gardien, bel appartement t...  \n",
       "19  Dans résidence avec gardien, bel appartement t...  \n",
       "\n",
       "[401 rows x 6 columns]"
      ]
     },
     "execution_count": 2,
     "metadata": {},
     "output_type": "execute_result"
    }
   ],
   "source": [
    "results"
   ]
  },
  {
   "cell_type": "code",
   "execution_count": 3,
   "id": "0bf8d30f",
   "metadata": {},
   "outputs": [
    {
     "data": {
      "text/html": [
       "<div>\n",
       "<style scoped>\n",
       "    .dataframe tbody tr th:only-of-type {\n",
       "        vertical-align: middle;\n",
       "    }\n",
       "\n",
       "    .dataframe tbody tr th {\n",
       "        vertical-align: top;\n",
       "    }\n",
       "\n",
       "    .dataframe thead th {\n",
       "        text-align: right;\n",
       "    }\n",
       "</style>\n",
       "<table border=\"1\" class=\"dataframe\">\n",
       "  <thead>\n",
       "    <tr style=\"text-align: right;\">\n",
       "      <th></th>\n",
       "      <th>loyer (€)</th>\n",
       "      <th>surface (m²)</th>\n",
       "      <th>nb_pieces</th>\n",
       "    </tr>\n",
       "  </thead>\n",
       "  <tbody>\n",
       "    <tr>\n",
       "      <th>count</th>\n",
       "      <td>401.000000</td>\n",
       "      <td>401.000000</td>\n",
       "      <td>401.000000</td>\n",
       "    </tr>\n",
       "    <tr>\n",
       "      <th>mean</th>\n",
       "      <td>1563.663342</td>\n",
       "      <td>46.458853</td>\n",
       "      <td>2.122195</td>\n",
       "    </tr>\n",
       "    <tr>\n",
       "      <th>std</th>\n",
       "      <td>1145.751288</td>\n",
       "      <td>34.820596</td>\n",
       "      <td>1.248011</td>\n",
       "    </tr>\n",
       "    <tr>\n",
       "      <th>min</th>\n",
       "      <td>380.000000</td>\n",
       "      <td>8.000000</td>\n",
       "      <td>1.000000</td>\n",
       "    </tr>\n",
       "    <tr>\n",
       "      <th>25%</th>\n",
       "      <td>895.000000</td>\n",
       "      <td>24.000000</td>\n",
       "      <td>1.000000</td>\n",
       "    </tr>\n",
       "    <tr>\n",
       "      <th>50%</th>\n",
       "      <td>1250.000000</td>\n",
       "      <td>38.000000</td>\n",
       "      <td>2.000000</td>\n",
       "    </tr>\n",
       "    <tr>\n",
       "      <th>75%</th>\n",
       "      <td>1800.000000</td>\n",
       "      <td>58.000000</td>\n",
       "      <td>3.000000</td>\n",
       "    </tr>\n",
       "    <tr>\n",
       "      <th>max</th>\n",
       "      <td>10858.000000</td>\n",
       "      <td>317.000000</td>\n",
       "      <td>8.000000</td>\n",
       "    </tr>\n",
       "  </tbody>\n",
       "</table>\n",
       "</div>"
      ],
      "text/plain": [
       "          loyer (€)  surface (m²)   nb_pieces\n",
       "count    401.000000    401.000000  401.000000\n",
       "mean    1563.663342     46.458853    2.122195\n",
       "std     1145.751288     34.820596    1.248011\n",
       "min      380.000000      8.000000    1.000000\n",
       "25%      895.000000     24.000000    1.000000\n",
       "50%     1250.000000     38.000000    2.000000\n",
       "75%     1800.000000     58.000000    3.000000\n",
       "max    10858.000000    317.000000    8.000000"
      ]
     },
     "execution_count": 3,
     "metadata": {},
     "output_type": "execute_result"
    }
   ],
   "source": [
    "results.describe()"
   ]
  },
  {
   "cell_type": "code",
   "execution_count": 4,
   "id": "3c1508f5",
   "metadata": {},
   "outputs": [
    {
     "data": {
      "text/html": [
       "<div>\n",
       "<style scoped>\n",
       "    .dataframe tbody tr th:only-of-type {\n",
       "        vertical-align: middle;\n",
       "    }\n",
       "\n",
       "    .dataframe tbody tr th {\n",
       "        vertical-align: top;\n",
       "    }\n",
       "\n",
       "    .dataframe thead th {\n",
       "        text-align: right;\n",
       "    }\n",
       "</style>\n",
       "<table border=\"1\" class=\"dataframe\">\n",
       "  <thead>\n",
       "    <tr style=\"text-align: right;\">\n",
       "      <th></th>\n",
       "      <th>loyer (€)</th>\n",
       "      <th>surface (m²)</th>\n",
       "      <th>nb_pieces</th>\n",
       "      <th>loyer / m²</th>\n",
       "    </tr>\n",
       "  </thead>\n",
       "  <tbody>\n",
       "    <tr>\n",
       "      <th>count</th>\n",
       "      <td>401.000000</td>\n",
       "      <td>401.000000</td>\n",
       "      <td>401.000000</td>\n",
       "      <td>401.000000</td>\n",
       "    </tr>\n",
       "    <tr>\n",
       "      <th>mean</th>\n",
       "      <td>1563.663342</td>\n",
       "      <td>46.458853</td>\n",
       "      <td>2.122195</td>\n",
       "      <td>36.363029</td>\n",
       "    </tr>\n",
       "    <tr>\n",
       "      <th>std</th>\n",
       "      <td>1145.751288</td>\n",
       "      <td>34.820596</td>\n",
       "      <td>1.248011</td>\n",
       "      <td>9.818423</td>\n",
       "    </tr>\n",
       "    <tr>\n",
       "      <th>min</th>\n",
       "      <td>380.000000</td>\n",
       "      <td>8.000000</td>\n",
       "      <td>1.000000</td>\n",
       "      <td>6.125000</td>\n",
       "    </tr>\n",
       "    <tr>\n",
       "      <th>25%</th>\n",
       "      <td>895.000000</td>\n",
       "      <td>24.000000</td>\n",
       "      <td>1.000000</td>\n",
       "      <td>30.000000</td>\n",
       "    </tr>\n",
       "    <tr>\n",
       "      <th>50%</th>\n",
       "      <td>1250.000000</td>\n",
       "      <td>38.000000</td>\n",
       "      <td>2.000000</td>\n",
       "      <td>33.695652</td>\n",
       "    </tr>\n",
       "    <tr>\n",
       "      <th>75%</th>\n",
       "      <td>1800.000000</td>\n",
       "      <td>58.000000</td>\n",
       "      <td>3.000000</td>\n",
       "      <td>40.538462</td>\n",
       "    </tr>\n",
       "    <tr>\n",
       "      <th>max</th>\n",
       "      <td>10858.000000</td>\n",
       "      <td>317.000000</td>\n",
       "      <td>8.000000</td>\n",
       "      <td>89.521739</td>\n",
       "    </tr>\n",
       "  </tbody>\n",
       "</table>\n",
       "</div>"
      ],
      "text/plain": [
       "          loyer (€)  surface (m²)   nb_pieces  loyer / m²\n",
       "count    401.000000    401.000000  401.000000  401.000000\n",
       "mean    1563.663342     46.458853    2.122195   36.363029\n",
       "std     1145.751288     34.820596    1.248011    9.818423\n",
       "min      380.000000      8.000000    1.000000    6.125000\n",
       "25%      895.000000     24.000000    1.000000   30.000000\n",
       "50%     1250.000000     38.000000    2.000000   33.695652\n",
       "75%     1800.000000     58.000000    3.000000   40.538462\n",
       "max    10858.000000    317.000000    8.000000   89.521739"
      ]
     },
     "execution_count": 4,
     "metadata": {},
     "output_type": "execute_result"
    }
   ],
   "source": [
    "results[\"loyer / m²\"] = results[\"loyer (€)\"] / results[\"surface (m²)\"]\n",
    "results.describe()"
   ]
  },
  {
   "cell_type": "code",
   "execution_count": 5,
   "id": "89cb4e95",
   "metadata": {},
   "outputs": [
    {
     "data": {
      "text/plain": [
       "emplacement\n",
       "75006    44.257802\n",
       "75011    43.484435\n",
       "75005    42.951214\n",
       "75003    42.471485\n",
       "75017    41.406412\n",
       "75002    41.292231\n",
       "75001    41.005818\n",
       "75008    39.171474\n",
       "75007    38.987068\n",
       "75116    37.864762\n",
       "75004    37.555871\n",
       "75016    35.670536\n",
       "75018    34.661861\n",
       "75009    34.381299\n",
       "75019    33.668713\n",
       "75020    33.215195\n",
       "75010    32.784004\n",
       "75015    32.590482\n",
       "75013    32.082195\n",
       "75014    31.856699\n",
       "75012    29.821632\n",
       "Name: loyer / m², dtype: float64"
      ]
     },
     "execution_count": 5,
     "metadata": {},
     "output_type": "execute_result"
    }
   ],
   "source": [
    "results.groupby(\"emplacement\")[\"loyer / m²\"].mean().sort_values(ascending=False)"
   ]
  },
  {
   "cell_type": "code",
   "execution_count": 55,
   "id": "b1287d76",
   "metadata": {},
   "outputs": [
    {
     "data": {
      "text/plain": [
       "<AxesSubplot:xlabel='nb_pieces', ylabel='loyer / m²'>"
      ]
     },
     "execution_count": 55,
     "metadata": {},
     "output_type": "execute_result"
    },
    {
     "data": {
      "image/png": "[encoded data removed]",
      "text/plain": [
       "<Figure size 576x324 with 1 Axes>"
      ]
     },
     "metadata": {
      "needs_background": "light"
     },
     "output_type": "display_data"
    }
   ],
   "source": [
    "import seaborn as sns\n",
    "import matplotlib.pyplot as plt\n",
    "plt.rcParams[\"figure.figsize\"] = (8,4.5)\n",
    "\n",
    "sns.violinplot(x=\"nb_pieces\", y=\"loyer / m²\", data=results[results[\"emplacement\"] < \"75007\"])"
   ]
  },
  {
   "cell_type": "code",
   "execution_count": 56,
   "id": "ca80795a",
   "metadata": {
    "scrolled": true
   },
   "outputs": [
    {
     "data": {
      "text/plain": [
       "<AxesSubplot:xlabel='nb_pieces', ylabel='emplacement'>"
      ]
     },
     "execution_count": 56,
     "metadata": {},
     "output_type": "execute_result"
    },
    {
     "data": {
      "image/png": "[encoded data removed]",
      "text/plain": [
       "<Figure size 576x324 with 2 Axes>"
      ]
     },
     "metadata": {
      "needs_background": "light"
     },
     "output_type": "display_data"
    }
   ],
   "source": [
    "homes = results.groupby([\"emplacement\", \"nb_pieces\"])[\"loyer / m²\"].mean().to_frame()\n",
    "homes = homes.reset_index()\n",
    "homes = homes.pivot(\"emplacement\", \"nb_pieces\", \"loyer / m²\")\n",
    "sns.heatmap(homes, annot=True, cmap=\"YlGnBu\")"
   ]
  }
 ],
 "metadata": {
  "kernelspec": {
   "display_name": "Python 3",
   "language": "python",
   "name": "python3"
  },
  "language_info": {
   "codemirror_mode": {
    "name": "ipython",
    "version": 3
   },
   "file_extension": ".py",
   "mimetype": "text/x-python",
   "name": "python",
   "nbconvert_exporter": "python",
   "pygments_lexer": "ipython3",
   "version": "3.9.5"
  }
 },
 "nbformat": 4,
 "nbformat_minor": 5
}
