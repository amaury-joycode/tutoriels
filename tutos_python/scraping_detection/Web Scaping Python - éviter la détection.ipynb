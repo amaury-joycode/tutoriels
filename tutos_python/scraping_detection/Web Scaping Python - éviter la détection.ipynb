{
 "cells": [
  {
   "cell_type": "markdown",
   "id": "abcf9077",
   "metadata": {
    "slideshow": {
     "slide_type": "slide"
    }
   },
   "source": [
    "# Web Scraping Python - éviter la détection\n",
    "\n",
    "_Ce café python est la suite du précédent café python sur le web scraping et suppose donc que vous savez au moins utiliser requests / selenium et Beautifulsoup_\n",
    "\n",
    "__Au programme : comment éviter la détection avec__\n",
    "- les User-Agents et autres headers\n",
    "- les Proxies"
   ]
  },
  {
   "cell_type": "markdown",
   "id": "fd761119",
   "metadata": {
    "slideshow": {
     "slide_type": "slide"
    }
   },
   "source": [
    "# User-Agents\n",
    "\n",
    "\n",
    "## Qu'est-ce que c'est ?\n",
    "\n",
    "Le `User-Agent` est un des nombreux `headers` du protocole HTTP, globalement un des paramètres qui est envoyé par votre navigateur lors qu'il demande (requête) une page Web.\n",
    "\n",
    "On peut observer le détail en mode développeur (F12) sur un navigateur.\n"
   ]
  },
  {
   "cell_type": "markdown",
   "id": "b206e531",
   "metadata": {
    "slideshow": {
     "slide_type": "subslide"
    }
   },
   "source": [
    "## Pourquoi c'est important ?\n",
    "\n",
    "Le header `User-Agent` est souvent utilisé pour la détection de bots et donc bloquer le scraping.\n",
    "\n",
    "Exemple ci-dessous de ce qu'on observe si l'on utilise le module `requests` de python : \n"
   ]
  },
  {
   "cell_type": "code",
   "execution_count": 1,
   "id": "50f015c4",
   "metadata": {},
   "outputs": [
    {
     "data": {
      "text/plain": [
       "{'user-agent': 'python-requests/2.26.0'}"
      ]
     },
     "execution_count": 1,
     "metadata": {},
     "output_type": "execute_result"
    }
   ],
   "source": [
    "import requests # à installer avec 'pip install requests'\n",
    "response = requests.get(\"https://httpbin.org/user-agent\")\n",
    "response.json()"
   ]
  },
  {
   "cell_type": "markdown",
   "id": "7ac4d9ad",
   "metadata": {
    "slideshow": {
     "slide_type": "subslide"
    }
   },
   "source": [
    "## Comment le changer ?"
   ]
  },
  {
   "cell_type": "code",
   "execution_count": 2,
   "id": "a1e8f01b",
   "metadata": {},
   "outputs": [
    {
     "data": {
      "text/plain": [
       "{'user-agent': 'toto'}"
      ]
     },
     "execution_count": 2,
     "metadata": {},
     "output_type": "execute_result"
    }
   ],
   "source": [
    "headers = {\"user-agent\": \"toto\"}\n",
    "response = requests.get(\"https://httpbin.org/user-agent\", headers=headers)\n",
    "response.json()"
   ]
  },
  {
   "cell_type": "markdown",
   "id": "15ae1e21",
   "metadata": {
    "slideshow": {
     "slide_type": "fragment"
    }
   },
   "source": [
    "__Liens utiles__\n",
    "- http://www.useragentstring.com/pages/useragentstring.php\n",
    "- https://developer.chrome.com/docs/multidevice/user-agent/\n",
    "- https://developer.mozilla.org/en-US/docs/Web/HTTP/Headers/User-Agent"
   ]
  },
  {
   "cell_type": "markdown",
   "id": "64d3a7fe",
   "metadata": {
    "slideshow": {
     "slide_type": "subslide"
    }
   },
   "source": [
    "## Autres headers\n",
    "\n",
    "### Header du module requests"
   ]
  },
  {
   "cell_type": "code",
   "execution_count": 3,
   "id": "4cd34ea1",
   "metadata": {},
   "outputs": [
    {
     "data": {
      "text/plain": [
       "{'headers': {'Accept': '*/*',\n",
       "  'Accept-Encoding': 'gzip, deflate',\n",
       "  'Host': 'httpbin.org',\n",
       "  'User-Agent': 'python-requests/2.26.0',\n",
       "  'X-Amzn-Trace-Id': 'Root=1-61d1cdf6-6bb15674640f7fb0716c74a0'}}"
      ]
     },
     "execution_count": 3,
     "metadata": {},
     "output_type": "execute_result"
    }
   ],
   "source": [
    "response = requests.get(\"https://httpbin.org/headers\")\n",
    "response.json()"
   ]
  },
  {
   "cell_type": "markdown",
   "id": "8a3a95cf",
   "metadata": {
    "slideshow": {
     "slide_type": "subslide"
    }
   },
   "source": [
    "### Headers de Firefox"
   ]
  },
  {
   "cell_type": "code",
   "execution_count": 4,
   "id": "d7ec5f73",
   "metadata": {
    "slideshow": {
     "slide_type": "-"
    }
   },
   "outputs": [
    {
     "data": {
      "text/plain": [
       "{'Accept': 'text/html,application/xhtml+xml,application/xml;q=0.9,image/avif,image/webp,*/*;q=0.8',\n",
       " 'Accept-Encoding': 'gzip, deflate, br',\n",
       " 'Accept-Language': 'fr,fr-FR;q=0.8,en-US;q=0.5,en;q=0.3',\n",
       " 'Connection': 'keep-alive',\n",
       " 'DNT': '1',\n",
       " 'Upgrade-Insecure-Requests': '1',\n",
       " 'Sec-Fetch-Dest': 'document',\n",
       " 'Sec-Fetch-Mode': 'navigate',\n",
       " 'Sec-Fetch-Site': 'cross-site',\n",
       " 'User-Agent': 'Mozilla/5.0 (Windows NT 10.0; Win64; x64; rv:94.0) Gecko/20100101 Firefox/94.0'}"
      ]
     },
     "execution_count": 4,
     "metadata": {},
     "output_type": "execute_result"
    }
   ],
   "source": [
    "import yaml\n",
    "\n",
    "with open(\"headers.yml\") as f_headers:\n",
    "    browser_headers = yaml.safe_load(f_headers)\n",
    "browser_headers[\"Firefox\"]"
   ]
  },
  {
   "cell_type": "code",
   "execution_count": 5,
   "id": "efe942ad",
   "metadata": {
    "slideshow": {
     "slide_type": "subslide"
    }
   },
   "outputs": [
    {
     "data": {
      "text/plain": [
       "{'headers': {'Accept': 'text/html,application/xhtml+xml,application/xml;q=0.9,image/avif,image/webp,*/*;q=0.8',\n",
       "  'Accept-Encoding': 'gzip, deflate, br',\n",
       "  'Accept-Language': 'fr,fr-FR;q=0.8,en-US;q=0.5,en;q=0.3',\n",
       "  'Dnt': '1',\n",
       "  'Host': 'httpbin.org',\n",
       "  'Sec-Fetch-Dest': 'document',\n",
       "  'Sec-Fetch-Mode': 'navigate',\n",
       "  'Sec-Fetch-Site': 'cross-site',\n",
       "  'Upgrade-Insecure-Requests': '1',\n",
       "  'User-Agent': 'Mozilla/5.0 (Windows NT 10.0; Win64; x64; rv:94.0) Gecko/20100101 Firefox/94.0',\n",
       "  'X-Amzn-Trace-Id': 'Root=1-61d1ce6a-328d62570c75a9013ae1395a'}}"
      ]
     },
     "execution_count": 5,
     "metadata": {},
     "output_type": "execute_result"
    }
   ],
   "source": [
    "response = requests.get(\"https://httpbin.org/headers\", headers=browser_headers[\"Firefox\"])\n",
    "response.json()"
   ]
  },
  {
   "cell_type": "markdown",
   "id": "2dc2f57b",
   "metadata": {
    "slideshow": {
     "slide_type": "slide"
    }
   },
   "source": [
    "# Proxies\n",
    "\n",
    "## Pourquoi utiliser des proxies ?\n",
    "\n",
    "Tout simplement parce que cela permet de changer l'adresse ip dont provient la requête et donc de faire croire au site que l'on est une personne différente.\n"
   ]
  },
  {
   "cell_type": "markdown",
   "id": "0df66a03",
   "metadata": {
    "slideshow": {
     "slide_type": "subslide"
    }
   },
   "source": [
    "## Comment utiliser un proxy ?\n"
   ]
  },
  {
   "cell_type": "code",
   "execution_count": 6,
   "id": "ac62a0af",
   "metadata": {},
   "outputs": [
    {
     "data": {
      "text/plain": [
       "{'origin': '77.86.31.251'}"
      ]
     },
     "execution_count": 6,
     "metadata": {},
     "output_type": "execute_result"
    }
   ],
   "source": [
    "proxies = {\n",
    "    \"http\": \"http://77.86.31.251:8080\",\n",
    "    \"https\": \"http://77.86.31.251:8080\",\n",
    "}\n",
    "response = requests.get(\"https://httpbin.org/ip\", proxies=proxies)\n",
    "response.json()"
   ]
  },
  {
   "cell_type": "markdown",
   "id": "d2931b2b",
   "metadata": {
    "slideshow": {
     "slide_type": "subslide"
    }
   },
   "source": [
    "## Comment changer automatiquement de proxy ?\n",
    "\n",
    "https://free-proxy-list.net/"
   ]
  },
  {
   "cell_type": "code",
   "execution_count": 12,
   "id": "bce30ca8",
   "metadata": {},
   "outputs": [],
   "source": [
    "response = requests.get(\"https://free-proxy-list.net/\")"
   ]
  },
  {
   "cell_type": "code",
   "execution_count": 13,
   "id": "18cb2cca",
   "metadata": {},
   "outputs": [
    {
     "data": {
      "text/html": [
       "<div>\n",
       "<style scoped>\n",
       "    .dataframe tbody tr th:only-of-type {\n",
       "        vertical-align: middle;\n",
       "    }\n",
       "\n",
       "    .dataframe tbody tr th {\n",
       "        vertical-align: top;\n",
       "    }\n",
       "\n",
       "    .dataframe thead th {\n",
       "        text-align: right;\n",
       "    }\n",
       "</style>\n",
       "<table border=\"1\" class=\"dataframe\">\n",
       "  <thead>\n",
       "    <tr style=\"text-align: right;\">\n",
       "      <th></th>\n",
       "      <th>IP Address</th>\n",
       "      <th>Port</th>\n",
       "      <th>Code</th>\n",
       "      <th>Country</th>\n",
       "      <th>Anonymity</th>\n",
       "      <th>Google</th>\n",
       "      <th>Https</th>\n",
       "      <th>Last Checked</th>\n",
       "      <th>url</th>\n",
       "    </tr>\n",
       "  </thead>\n",
       "  <tbody>\n",
       "    <tr>\n",
       "      <th>0</th>\n",
       "      <td>90.45.5.27</td>\n",
       "      <td>80</td>\n",
       "      <td>FR</td>\n",
       "      <td>France</td>\n",
       "      <td>elite proxy</td>\n",
       "      <td>NaN</td>\n",
       "      <td>no</td>\n",
       "      <td>1 min ago</td>\n",
       "      <td>http://90.45.5.27:80</td>\n",
       "    </tr>\n",
       "    <tr>\n",
       "      <th>1</th>\n",
       "      <td>94.23.91.209</td>\n",
       "      <td>80</td>\n",
       "      <td>PL</td>\n",
       "      <td>Poland</td>\n",
       "      <td>elite proxy</td>\n",
       "      <td>NaN</td>\n",
       "      <td>no</td>\n",
       "      <td>1 min ago</td>\n",
       "      <td>http://94.23.91.209:80</td>\n",
       "    </tr>\n",
       "    <tr>\n",
       "      <th>2</th>\n",
       "      <td>43.224.10.37</td>\n",
       "      <td>6666</td>\n",
       "      <td>IN</td>\n",
       "      <td>India</td>\n",
       "      <td>elite proxy</td>\n",
       "      <td>NaN</td>\n",
       "      <td>no</td>\n",
       "      <td>1 min ago</td>\n",
       "      <td>http://43.224.10.37:6666</td>\n",
       "    </tr>\n",
       "    <tr>\n",
       "      <th>3</th>\n",
       "      <td>191.252.177.170</td>\n",
       "      <td>8118</td>\n",
       "      <td>BR</td>\n",
       "      <td>Brazil</td>\n",
       "      <td>elite proxy</td>\n",
       "      <td>NaN</td>\n",
       "      <td>no</td>\n",
       "      <td>1 min ago</td>\n",
       "      <td>http://191.252.177.170:8118</td>\n",
       "    </tr>\n",
       "    <tr>\n",
       "      <th>4</th>\n",
       "      <td>200.103.102.18</td>\n",
       "      <td>80</td>\n",
       "      <td>BR</td>\n",
       "      <td>Brazil</td>\n",
       "      <td>anonymous</td>\n",
       "      <td>yes</td>\n",
       "      <td>no</td>\n",
       "      <td>1 min ago</td>\n",
       "      <td>http://200.103.102.18:80</td>\n",
       "    </tr>\n",
       "  </tbody>\n",
       "</table>\n",
       "</div>"
      ],
      "text/plain": [
       "        IP Address  Port Code Country    Anonymity Google Https Last Checked  \\\n",
       "0       90.45.5.27    80   FR  France  elite proxy    NaN    no    1 min ago   \n",
       "1     94.23.91.209    80   PL  Poland  elite proxy    NaN    no    1 min ago   \n",
       "2     43.224.10.37  6666   IN   India  elite proxy    NaN    no    1 min ago   \n",
       "3  191.252.177.170  8118   BR  Brazil  elite proxy    NaN    no    1 min ago   \n",
       "4   200.103.102.18    80   BR  Brazil    anonymous    yes    no    1 min ago   \n",
       "\n",
       "                           url  \n",
       "0         http://90.45.5.27:80  \n",
       "1       http://94.23.91.209:80  \n",
       "2     http://43.224.10.37:6666  \n",
       "3  http://191.252.177.170:8118  \n",
       "4     http://200.103.102.18:80  "
      ]
     },
     "execution_count": 13,
     "metadata": {},
     "output_type": "execute_result"
    }
   ],
   "source": [
    "import pandas as pd\n",
    "proxy_list = pd.read_html(response.text)[0]\n",
    "proxy_list[\"url\"] = \"http://\" + proxy_list[\"IP Address\"] + \":\" + proxy_list[\"Port\"].astype(str)\n",
    "proxy_list.head()"
   ]
  },
  {
   "cell_type": "code",
   "execution_count": 14,
   "id": "ecc9fe4c",
   "metadata": {
    "slideshow": {
     "slide_type": "subslide"
    }
   },
   "outputs": [
    {
     "data": {
      "text/plain": [
       "IP Address      147\n",
       "Port            147\n",
       "Code            147\n",
       "Country         147\n",
       "Anonymity       147\n",
       "Google          104\n",
       "Https           147\n",
       "Last Checked    147\n",
       "url             147\n",
       "dtype: int64"
      ]
     },
     "execution_count": 14,
     "metadata": {},
     "output_type": "execute_result"
    }
   ],
   "source": [
    "# on copie ici avec pd.DataFrame pour pouvoir ajouter proprement une colonne ensuite\n",
    "https_proxies = proxy_list[proxy_list[\"Https\"] == \"yes\"]\n",
    "https_proxies.count()"
   ]
  },
  {
   "cell_type": "markdown",
   "id": "355ace40",
   "metadata": {
    "slideshow": {
     "slide_type": "subslide"
    }
   },
   "source": [
    "## Sélectionner les proxies valides"
   ]
  },
  {
   "cell_type": "code",
   "execution_count": 15,
   "id": "85b5705f",
   "metadata": {},
   "outputs": [
    {
     "name": "stdout",
     "output_type": "stream",
     "text": [
      "Proxy http://149.19.224.36:3128 OK, added to good_proxy list\n",
      "Proxy http://3.17.13.205:8080 OK, added to good_proxy list\n",
      "Proxy http://134.209.42.113:8899 OK, added to good_proxy list\n"
     ]
    }
   ],
   "source": [
    "url = \"https://httpbin.org/ip\"\n",
    "good_proxies = set()\n",
    "headers = browser_headers[\"Chrome\"]\n",
    "for proxy_url in https_proxies[\"url\"]:\n",
    "    proxies = {\n",
    "        \"http\": proxy_url,\n",
    "        \"https\": proxy_url,\n",
    "    }\n",
    "    \n",
    "    try:\n",
    "        response = requests.get(url, headers=headers, proxies=proxies, timeout=2)\n",
    "        good_proxies.add(proxy_url)\n",
    "        print(f\"Proxy {proxy_url} OK, added to good_proxy list\")\n",
    "    except Exception:\n",
    "        pass\n",
    "    \n",
    "    if len(good_proxies) >= 3:\n",
    "        break"
   ]
  },
  {
   "cell_type": "markdown",
   "id": "c6cd02e8",
   "metadata": {
    "slideshow": {
     "slide_type": "slide"
    }
   },
   "source": [
    "# Application au scraping\n",
    "\n",
    "1. Avec Selenium\n",
    "2. Avec le module `requests` de Python"
   ]
  },
  {
   "cell_type": "markdown",
   "id": "639c768d",
   "metadata": {
    "slideshow": {
     "slide_type": "subslide"
    }
   },
   "source": [
    "## Scraping avec Selenium\n",
    "\n",
    "Si le site à scraper requiert l'utilisation de Javascript, vous n'aurez pas le choix et devrez utiliser Selenium comme montré dans le premier tuto. Vous pouvez faire une rotation de navigateurs mais le plus important est de faire une rotation de proxy."
   ]
  },
  {
   "cell_type": "code",
   "execution_count": 16,
   "id": "a535bfc8",
   "metadata": {
    "scrolled": true
   },
   "outputs": [],
   "source": [
    "from selenium import webdriver\n",
    "\n",
    "for proxy_url in good_proxies:\n",
    "    proxy = proxy_url.replace(\"http://\", \"\")\n",
    "\n",
    "    firefox_capabilities = webdriver.DesiredCapabilities.FIREFOX\n",
    "    firefox_capabilities['marionette'] = True\n",
    "\n",
    "    firefox_capabilities['proxy'] = {\n",
    "        \"proxyType\": \"MANUAL\",\n",
    "        \"httpProxy\": proxy,\n",
    "        \"sslProxy\": proxy\n",
    "    }\n",
    "\n",
    "    driver = webdriver.Firefox(capabilities=firefox_capabilities)\n",
    "    try:\n",
    "        driver.get(\"https://httpbin.org/ip\")\n",
    "    except Exception:\n",
    "        pass"
   ]
  },
  {
   "cell_type": "markdown",
   "id": "72e3c059",
   "metadata": {
    "slideshow": {
     "slide_type": "subslide"
    }
   },
   "source": [
    "## Scraping avec requests\n",
    "\n",
    "Quand le site a scraper fonctionne sans Javascript, vous pouvez utiliser directement requests et faire une rotation de headers (dont `User-Agent`) et de proxies."
   ]
  },
  {
   "cell_type": "code",
   "execution_count": 17,
   "id": "94a6f6ae",
   "metadata": {},
   "outputs": [
    {
     "name": "stdout",
     "output_type": "stream",
     "text": [
      "\n",
      "\n",
      "Using Chrome headers\n",
      "\n",
      "{'args': {}, 'data': '', 'files': {}, 'form': {}, 'headers': {'Accept': 'text/html,application/xhtml+xml,application/xml;q=0.9,image/avif,image/webp,image/apng,*/*;q=0.8,application/signed-exchange;v=b3;q=0.9', 'Accept-Encoding': 'gzip, deflate, br', 'Accept-Language': 'fr-FR,fr;q=0.9,en-US;q=0.8,en;q=0.7', 'Cache-Control': 'max-age=0', 'Host': 'httpbin.org', 'Sec-Fetch-Dest': 'document', 'Sec-Fetch-Mode': 'navigate', 'Sec-Fetch-Site': 'same-origin', 'Sec-Fetch-User': '?1', 'Upgrade-Insecure-Requests': '1', 'User-Agent': 'Mozilla/5.0 (Windows NT 10.0; Win64; x64) AppleWebKit/537.36 (KHTML, like Gecko) Chrome/95.0.4638.69 Safari/537.36', 'X-Amzn-Trace-Id': 'Root=1-61d1d299-64c75a5b5a49f42c7a9dbcfe'}, 'json': None, 'method': 'GET', 'origin': '149.19.224.36', 'url': 'https://httpbin.org/anything'}\n",
      "Proxy http://3.17.13.205:8080 failed, trying another one\n",
      "Proxy http://134.209.42.113:8899 failed, trying another one\n",
      "\n",
      "\n",
      "Using Edge headers\n",
      "\n",
      "{'args': {}, 'data': '', 'files': {}, 'form': {}, 'headers': {'Accept': 'text/html,application/xhtml+xml,application/xml;q=0.9,image/webp,image/apng,*/*;q=0.8,application/signed-exchange;v=b3;q=0.9', 'Accept-Encoding': 'gzip, deflate, br', 'Accept-Language': 'en-GB,en;q=0.9,en-US;q=0.8', 'Cache-Control': 'max-age=0', 'Host': 'httpbin.org', 'Sec-Fetch-Dest': 'document', 'Sec-Fetch-Mode': 'navigate', 'Sec-Fetch-Site': 'none', 'Sec-Fetch-User': '?1', 'Upgrade-Insecure-Requests': '1', 'User-Agent': 'Mozilla/5.0 (Windows NT 10.0; Win64; x64) AppleWebKit/537.36 (KHTML, like Gecko) Chrome/95.0.4638.69 Safari/537.36 Edg/95.0.1020.44', 'X-Amzn-Trace-Id': 'Root=1-61d1d29b-4645b33467f1b5950abaa380'}, 'json': None, 'method': 'GET', 'origin': '149.19.224.36', 'url': 'https://httpbin.org/anything'}\n",
      "{'args': {}, 'data': '', 'files': {}, 'form': {}, 'headers': {'Accept': 'text/html,application/xhtml+xml,application/xml;q=0.9,image/webp,image/apng,*/*;q=0.8,application/signed-exchange;v=b3;q=0.9', 'Accept-Encoding': 'gzip, deflate, br', 'Accept-Language': 'en-GB,en;q=0.9,en-US;q=0.8', 'Cache-Control': 'max-age=0', 'Host': 'httpbin.org', 'Sec-Fetch-Dest': 'document', 'Sec-Fetch-Mode': 'navigate', 'Sec-Fetch-Site': 'none', 'Sec-Fetch-User': '?1', 'Upgrade-Insecure-Requests': '1', 'User-Agent': 'Mozilla/5.0 (Windows NT 10.0; Win64; x64) AppleWebKit/537.36 (KHTML, like Gecko) Chrome/95.0.4638.69 Safari/537.36 Edg/95.0.1020.44', 'X-Amzn-Trace-Id': 'Root=1-61d1d29f-683c8e1c5b26a93009c4e96b'}, 'json': None, 'method': 'GET', 'origin': '3.17.13.205', 'url': 'https://httpbin.org/anything'}\n",
      "Proxy http://134.209.42.113:8899 failed, trying another one\n",
      "\n",
      "\n",
      "Using Firefox headers\n",
      "\n",
      "{'args': {}, 'data': '', 'files': {}, 'form': {}, 'headers': {'Accept': 'text/html,application/xhtml+xml,application/xml;q=0.9,image/avif,image/webp,*/*;q=0.8', 'Accept-Encoding': 'gzip, deflate, br', 'Accept-Language': 'fr,fr-FR;q=0.8,en-US;q=0.5,en;q=0.3', 'Dnt': '1', 'Host': 'httpbin.org', 'Sec-Fetch-Dest': 'document', 'Sec-Fetch-Mode': 'navigate', 'Sec-Fetch-Site': 'cross-site', 'Upgrade-Insecure-Requests': '1', 'User-Agent': 'Mozilla/5.0 (Windows NT 10.0; Win64; x64; rv:94.0) Gecko/20100101 Firefox/94.0', 'X-Amzn-Trace-Id': 'Root=1-61d1d2a0-2343c4c97e907e096f352675'}, 'json': None, 'method': 'GET', 'origin': '149.19.224.36', 'url': 'https://httpbin.org/anything'}\n",
      "Proxy http://3.17.13.205:8080 failed, trying another one\n",
      "Proxy http://134.209.42.113:8899 failed, trying another one\n",
      "\n",
      "\n",
      "Using IE headers\n",
      "\n",
      "{'args': {}, 'data': '', 'files': {}, 'form': {}, 'headers': {'Accept': 'text/html, application/xhtml+xml, image/jxr, */*', 'Accept-Encoding': 'gzip, deflate', 'Accept-Language': 'en-GB', 'Host': 'httpbin.org', 'User-Agent': 'Mozilla/5.0 (Windows NT 10.0; WOW64; Trident/7.0; rv:11.0) like Gecko', 'X-Amzn-Trace-Id': 'Root=1-61d1d2a2-4b12fdd557c66dc5557fd9f1'}, 'json': None, 'method': 'GET', 'origin': '149.19.224.36', 'url': 'https://httpbin.org/anything'}\n",
      "{'args': {}, 'data': '', 'files': {}, 'form': {}, 'headers': {'Accept': 'text/html, application/xhtml+xml, image/jxr, */*', 'Accept-Encoding': 'gzip, deflate', 'Accept-Language': 'en-GB', 'Host': 'httpbin.org', 'User-Agent': 'Mozilla/5.0 (Windows NT 10.0; WOW64; Trident/7.0; rv:11.0) like Gecko', 'X-Amzn-Trace-Id': 'Root=1-61d1d2a4-42855b3559dae8de4cc44f37'}, 'json': None, 'method': 'GET', 'origin': '3.17.13.205', 'url': 'https://httpbin.org/anything'}\n",
      "Proxy http://134.209.42.113:8899 failed, trying another one\n"
     ]
    }
   ],
   "source": [
    "url = \"https://httpbin.org/anything\"\n",
    "for browser, headers in browser_headers.items():\n",
    "    print(f\"\\n\\nUsing {browser} headers\\n\")\n",
    "    for proxy_url in good_proxies:\n",
    "        proxies = proxies = {\n",
    "            \"http\": proxy_url,\n",
    "            \"https\": proxy_url,\n",
    "        }\n",
    "        try:\n",
    "            response = requests.get(url, headers=headers, proxies=proxies, timeout=2)\n",
    "            print(response.json())\n",
    "        except Exception:\n",
    "            print(f\"Proxy {proxy_url} failed, trying another one\")"
   ]
  },
  {
   "cell_type": "markdown",
   "id": "235b3c04",
   "metadata": {
    "slideshow": {
     "slide_type": "slide"
    }
   },
   "source": [
    "# Ouverture\n",
    "\n",
    "Il existe des méthodes encore plus avancées de détection (et donc d'évasion de la détection) qui demandent des compétences plus avancées et donc difficilement accessibles à des débutants.\n",
    "\n",
    "Si vous êtes intéressés et n'avez pas peur du challenge allez vous entrainer sur ce site : https://pixelscan.net/checkproxy?url=%2F"
   ]
  }
 ],
 "metadata": {
  "celltoolbar": "Diaporama",
  "kernelspec": {
   "display_name": "Python 3",
   "language": "python",
   "name": "python3"
  },
  "language_info": {
   "codemirror_mode": {
    "name": "ipython",
    "version": 3
   },
   "file_extension": ".py",
   "mimetype": "text/x-python",
   "name": "python",
   "nbconvert_exporter": "python",
   "pygments_lexer": "ipython3",
   "version": "3.9.7"
  },
  "toc": {
   "base_numbering": 1,
   "nav_menu": {},
   "number_sections": true,
   "sideBar": true,
   "skip_h1_title": false,
   "title_cell": "Table of Contents",
   "title_sidebar": "Contents",
   "toc_cell": false,
   "toc_position": {},
   "toc_section_display": true,
   "toc_window_display": false
  }
 },
 "nbformat": 4,
 "nbformat_minor": 5
}
