{
 "cells": [
  {
   "cell_type": "markdown",
   "id": "cbe7f2c2",
   "metadata": {},
   "source": [
    "# Comparer deux tables Excel"
   ]
  },
  {
   "cell_type": "code",
   "execution_count": 1,
   "id": "8f217137",
   "metadata": {},
   "outputs": [],
   "source": [
    "import pandas as pd"
   ]
  },
  {
   "cell_type": "markdown",
   "id": "1b78aa3b",
   "metadata": {},
   "source": [
    "## Chargement des deux onglets"
   ]
  },
  {
   "cell_type": "code",
   "execution_count": 2,
   "id": "0bc0cf6b",
   "metadata": {},
   "outputs": [
    {
     "output_type": "execute_result",
     "data": {
      "text/plain": [
       "                                               title body\n",
       "0  Health Canada approves AstraZeneca COVID-19 va...  NaN\n",
       "1  COVID-19 in Canada: 'Vaccination passports' a ...  NaN\n",
       "2  Coronavirus variants could fuel Canada's third...  NaN\n",
       "3  Canadian government to extend COVID-19 emergen...  NaN\n",
       "4  Canada: Pfizer is 'extremely committed' to mee...  NaN"
      ],
      "text/html": "<div>\n<style scoped>\n    .dataframe tbody tr th:only-of-type {\n        vertical-align: middle;\n    }\n\n    .dataframe tbody tr th {\n        vertical-align: top;\n    }\n\n    .dataframe thead th {\n        text-align: right;\n    }\n</style>\n<table border=\"1\" class=\"dataframe\">\n  <thead>\n    <tr style=\"text-align: right;\">\n      <th></th>\n      <th>title</th>\n      <th>body</th>\n    </tr>\n  </thead>\n  <tbody>\n    <tr>\n      <th>0</th>\n      <td>Health Canada approves AstraZeneca COVID-19 va...</td>\n      <td>NaN</td>\n    </tr>\n    <tr>\n      <th>1</th>\n      <td>COVID-19 in Canada: 'Vaccination passports' a ...</td>\n      <td>NaN</td>\n    </tr>\n    <tr>\n      <th>2</th>\n      <td>Coronavirus variants could fuel Canada's third...</td>\n      <td>NaN</td>\n    </tr>\n    <tr>\n      <th>3</th>\n      <td>Canadian government to extend COVID-19 emergen...</td>\n      <td>NaN</td>\n    </tr>\n    <tr>\n      <th>4</th>\n      <td>Canada: Pfizer is 'extremely committed' to mee...</td>\n      <td>NaN</td>\n    </tr>\n  </tbody>\n</table>\n</div>"
     },
     "metadata": {},
     "execution_count": 2
    }
   ],
   "source": [
    "comments_a = pd.read_excel(\"data.xlsx\", \"Comments 1\")\n",
    "comments_a.head()"
   ]
  },
  {
   "cell_type": "code",
   "execution_count": 3,
   "id": "9c9866e5",
   "metadata": {},
   "outputs": [
    {
     "output_type": "execute_result",
     "data": {
      "text/plain": [
       "                                               title body\n",
       "0  Health Canada approves AstraZeneca COVID-19 va...  NaN\n",
       "1  COVID-19 in Canada: 'Vaccination passports' a ...  NaN\n",
       "2  Coronavirus variants could fuel Canada's third...  NaN\n",
       "3  Canadian government to extend COVID-19 emergen...  NaN\n",
       "4  Canada: Pfizer is 'extremely committed' to mee...  NaN"
      ],
      "text/html": "<div>\n<style scoped>\n    .dataframe tbody tr th:only-of-type {\n        vertical-align: middle;\n    }\n\n    .dataframe tbody tr th {\n        vertical-align: top;\n    }\n\n    .dataframe thead th {\n        text-align: right;\n    }\n</style>\n<table border=\"1\" class=\"dataframe\">\n  <thead>\n    <tr style=\"text-align: right;\">\n      <th></th>\n      <th>title</th>\n      <th>body</th>\n    </tr>\n  </thead>\n  <tbody>\n    <tr>\n      <th>0</th>\n      <td>Health Canada approves AstraZeneca COVID-19 va...</td>\n      <td>NaN</td>\n    </tr>\n    <tr>\n      <th>1</th>\n      <td>COVID-19 in Canada: 'Vaccination passports' a ...</td>\n      <td>NaN</td>\n    </tr>\n    <tr>\n      <th>2</th>\n      <td>Coronavirus variants could fuel Canada's third...</td>\n      <td>NaN</td>\n    </tr>\n    <tr>\n      <th>3</th>\n      <td>Canadian government to extend COVID-19 emergen...</td>\n      <td>NaN</td>\n    </tr>\n    <tr>\n      <th>4</th>\n      <td>Canada: Pfizer is 'extremely committed' to mee...</td>\n      <td>NaN</td>\n    </tr>\n  </tbody>\n</table>\n</div>"
     },
     "metadata": {},
     "execution_count": 3
    }
   ],
   "source": [
    "comments_b = pd.read_excel(\"data.xlsx\", \"Comments 2\")\n",
    "comments_b.head()"
   ]
  },
  {
   "cell_type": "markdown",
   "id": "54ab0c37",
   "metadata": {},
   "source": [
    "## Quelques statistiques sur le contenu "
   ]
  },
  {
   "cell_type": "code",
   "execution_count": 4,
   "id": "66533fb7",
   "metadata": {},
   "outputs": [
    {
     "output_type": "execute_result",
     "data": {
      "text/plain": [
       "          title            body\n",
       "count      1521            1158\n",
       "unique      449            1136\n",
       "top     Comment  You got it bud\n",
       "freq       1073              15"
      ],
      "text/html": "<div>\n<style scoped>\n    .dataframe tbody tr th:only-of-type {\n        vertical-align: middle;\n    }\n\n    .dataframe tbody tr th {\n        vertical-align: top;\n    }\n\n    .dataframe thead th {\n        text-align: right;\n    }\n</style>\n<table border=\"1\" class=\"dataframe\">\n  <thead>\n    <tr style=\"text-align: right;\">\n      <th></th>\n      <th>title</th>\n      <th>body</th>\n    </tr>\n  </thead>\n  <tbody>\n    <tr>\n      <th>count</th>\n      <td>1521</td>\n      <td>1158</td>\n    </tr>\n    <tr>\n      <th>unique</th>\n      <td>449</td>\n      <td>1136</td>\n    </tr>\n    <tr>\n      <th>top</th>\n      <td>Comment</td>\n      <td>You got it bud</td>\n    </tr>\n    <tr>\n      <th>freq</th>\n      <td>1073</td>\n      <td>15</td>\n    </tr>\n  </tbody>\n</table>\n</div>"
     },
     "metadata": {},
     "execution_count": 4
    }
   ],
   "source": [
    "comments_a.describe()"
   ]
  },
  {
   "cell_type": "code",
   "execution_count": 5,
   "id": "a9e54945",
   "metadata": {},
   "outputs": [
    {
     "output_type": "execute_result",
     "data": {
      "text/plain": [
       "          title            body\n",
       "count      1523            1159\n",
       "unique      450            1137\n",
       "top     Comment  You got it bud\n",
       "freq       1074              15"
      ],
      "text/html": "<div>\n<style scoped>\n    .dataframe tbody tr th:only-of-type {\n        vertical-align: middle;\n    }\n\n    .dataframe tbody tr th {\n        vertical-align: top;\n    }\n\n    .dataframe thead th {\n        text-align: right;\n    }\n</style>\n<table border=\"1\" class=\"dataframe\">\n  <thead>\n    <tr style=\"text-align: right;\">\n      <th></th>\n      <th>title</th>\n      <th>body</th>\n    </tr>\n  </thead>\n  <tbody>\n    <tr>\n      <th>count</th>\n      <td>1523</td>\n      <td>1159</td>\n    </tr>\n    <tr>\n      <th>unique</th>\n      <td>450</td>\n      <td>1137</td>\n    </tr>\n    <tr>\n      <th>top</th>\n      <td>Comment</td>\n      <td>You got it bud</td>\n    </tr>\n    <tr>\n      <th>freq</th>\n      <td>1074</td>\n      <td>15</td>\n    </tr>\n  </tbody>\n</table>\n</div>"
     },
     "metadata": {},
     "execution_count": 5
    }
   ],
   "source": [
    "comments_b.describe()"
   ]
  },
  {
   "cell_type": "markdown",
   "id": "ed4c2845",
   "metadata": {},
   "source": [
    "## La méthode `isin()`"
   ]
  },
  {
   "cell_type": "code",
   "execution_count": 6,
   "id": "e1be6175",
   "metadata": {},
   "outputs": [
    {
     "output_type": "execute_result",
     "data": {
      "text/plain": [
       "0       True\n",
       "1       True\n",
       "2       True\n",
       "3       True\n",
       "4       True\n",
       "        ... \n",
       "1516    True\n",
       "1517    True\n",
       "1518    True\n",
       "1519    True\n",
       "1520    True\n",
       "Name: body, Length: 1521, dtype: bool"
      ]
     },
     "metadata": {},
     "execution_count": 6
    }
   ],
   "source": [
    "comments_a[\"body\"].isin(comments_b[\"body\"])"
   ]
  },
  {
   "cell_type": "code",
   "execution_count": 7,
   "id": "c0cf0866",
   "metadata": {},
   "outputs": [
    {
     "output_type": "execute_result",
     "data": {
      "text/plain": [
       "0       False\n",
       "1       False\n",
       "2       False\n",
       "3       False\n",
       "4       False\n",
       "        ...  \n",
       "1516    False\n",
       "1517    False\n",
       "1518    False\n",
       "1519    False\n",
       "1520    False\n",
       "Name: body, Length: 1521, dtype: bool"
      ]
     },
     "metadata": {},
     "execution_count": 7
    }
   ],
   "source": [
    "~comments_a[\"body\"].isin(comments_b[\"body\"])"
   ]
  },
  {
   "cell_type": "markdown",
   "id": "3e737964",
   "metadata": {},
   "source": [
    "## Commentaires de l'onglet A qui ne sont pas dans l'onglet B"
   ]
  },
  {
   "cell_type": "code",
   "execution_count": 8,
   "id": "7a7cac89",
   "metadata": {},
   "outputs": [
    {
     "output_type": "execute_result",
     "data": {
      "text/plain": [
       "                                                  title  \\\n",
       "85                                              Comment   \n",
       "224   5 Products you should Have Before you get your...   \n",
       "700                                             Comment   \n",
       "942                                             Comment   \n",
       "1145                                            Comment   \n",
       "1298                                            Comment   \n",
       "\n",
       "                                                   body  \n",
       "85    Basically nothing.\\n\\n>Autoimmunity to the cen...  \n",
       "224   Vaccine products are a contentious topic in ou...  \n",
       "700   Please don't. If you get your father vaccinate...  \n",
       "942   As far as I know no vaccine requires the use o...  \n",
       "1145                              So do pears though :D  \n",
       "1298  1) Autism is not ***just***... genetic, it's a...  "
      ],
      "text/html": "<div>\n<style scoped>\n    .dataframe tbody tr th:only-of-type {\n        vertical-align: middle;\n    }\n\n    .dataframe tbody tr th {\n        vertical-align: top;\n    }\n\n    .dataframe thead th {\n        text-align: right;\n    }\n</style>\n<table border=\"1\" class=\"dataframe\">\n  <thead>\n    <tr style=\"text-align: right;\">\n      <th></th>\n      <th>title</th>\n      <th>body</th>\n    </tr>\n  </thead>\n  <tbody>\n    <tr>\n      <th>85</th>\n      <td>Comment</td>\n      <td>Basically nothing.\\n\\n&gt;Autoimmunity to the cen...</td>\n    </tr>\n    <tr>\n      <th>224</th>\n      <td>5 Products you should Have Before you get your...</td>\n      <td>Vaccine products are a contentious topic in ou...</td>\n    </tr>\n    <tr>\n      <th>700</th>\n      <td>Comment</td>\n      <td>Please don't. If you get your father vaccinate...</td>\n    </tr>\n    <tr>\n      <th>942</th>\n      <td>Comment</td>\n      <td>As far as I know no vaccine requires the use o...</td>\n    </tr>\n    <tr>\n      <th>1145</th>\n      <td>Comment</td>\n      <td>So do pears though :D</td>\n    </tr>\n    <tr>\n      <th>1298</th>\n      <td>Comment</td>\n      <td>1) Autism is not ***just***... genetic, it's a...</td>\n    </tr>\n  </tbody>\n</table>\n</div>"
     },
     "metadata": {},
     "execution_count": 8
    }
   ],
   "source": [
    "comments_a[~comments_a[\"body\"].isin(comments_b[\"body\"])]"
   ]
  },
  {
   "cell_type": "markdown",
   "id": "3a6640de",
   "metadata": {},
   "source": [
    "## Commentaires de l'onglet B qui ne sont pas dans l'onget A"
   ]
  },
  {
   "cell_type": "code",
   "execution_count": 9,
   "id": "bdf65657",
   "metadata": {},
   "outputs": [
    {
     "output_type": "execute_result",
     "data": {
      "text/plain": [
       "                                                  title  \\\n",
       "52                                              Comment   \n",
       "288   No matter what side of the debate you are on, ...   \n",
       "699                                             Comment   \n",
       "851                                             Comment   \n",
       "967                                             Comment   \n",
       "1028                                            Comment   \n",
       "1194                                            Comment   \n",
       "\n",
       "                                                   body  \n",
       "52    >The 1 in 1000 fatality rate from measles is a...  \n",
       "288   The fact that human society is continually bei...  \n",
       "699        Quit stealing images.  Downvote this poster.  \n",
       "851   Of course not all â€œpro vaxâ€ individuals ar...  \n",
       "967                                The reason is sexism  \n",
       "1028  Oh my you are a witty one arent you? I would p...  \n",
       "1194  The Mawson study (not Mawsom, as the picture s...  "
      ],
      "text/html": "<div>\n<style scoped>\n    .dataframe tbody tr th:only-of-type {\n        vertical-align: middle;\n    }\n\n    .dataframe tbody tr th {\n        vertical-align: top;\n    }\n\n    .dataframe thead th {\n        text-align: right;\n    }\n</style>\n<table border=\"1\" class=\"dataframe\">\n  <thead>\n    <tr style=\"text-align: right;\">\n      <th></th>\n      <th>title</th>\n      <th>body</th>\n    </tr>\n  </thead>\n  <tbody>\n    <tr>\n      <th>52</th>\n      <td>Comment</td>\n      <td>&gt;The 1 in 1000 fatality rate from measles is a...</td>\n    </tr>\n    <tr>\n      <th>288</th>\n      <td>No matter what side of the debate you are on, ...</td>\n      <td>The fact that human society is continually bei...</td>\n    </tr>\n    <tr>\n      <th>699</th>\n      <td>Comment</td>\n      <td>Quit stealing images.  Downvote this poster.</td>\n    </tr>\n    <tr>\n      <th>851</th>\n      <td>Comment</td>\n      <td>Of course not all â€œpro vaxâ€ individuals ar...</td>\n    </tr>\n    <tr>\n      <th>967</th>\n      <td>Comment</td>\n      <td>The reason is sexism</td>\n    </tr>\n    <tr>\n      <th>1028</th>\n      <td>Comment</td>\n      <td>Oh my you are a witty one arent you? I would p...</td>\n    </tr>\n    <tr>\n      <th>1194</th>\n      <td>Comment</td>\n      <td>The Mawson study (not Mawsom, as the picture s...</td>\n    </tr>\n  </tbody>\n</table>\n</div>"
     },
     "metadata": {},
     "execution_count": 9
    }
   ],
   "source": [
    "comments_b[~comments_b[\"body\"].isin(comments_a[\"body\"])]"
   ]
  }
 ],
 "metadata": {
  "kernelspec": {
   "name": "python3",
   "display_name": "Python 3.9.5 64-bit ('code': venv)"
  },
  "language_info": {
   "codemirror_mode": {
    "name": "ipython",
    "version": 3
   },
   "file_extension": ".py",
   "mimetype": "text/x-python",
   "name": "python",
   "nbconvert_exporter": "python",
   "pygments_lexer": "ipython3",
   "version": "3.9.5"
  },
  "interpreter": {
   "hash": "0cf59d519b778f4a8b1469c066b82848a472b4113a1e8d9fb9085dca92891e8a"
  }
 },
 "nbformat": 4,
 "nbformat_minor": 5
}