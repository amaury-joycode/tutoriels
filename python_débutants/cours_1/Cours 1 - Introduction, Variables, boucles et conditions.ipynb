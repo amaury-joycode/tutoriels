{
 "cells": [
  {
   "cell_type": "markdown",
   "metadata": {
    "slideshow": {
     "slide_type": "slide"
    }
   },
   "source": [
    "# Cours 1 - Introduction au python\n",
    "\n",
    "## Présentation du cursus\n",
    "\n",
    "__Cours 1__ : Variables, boucles et conditions\n",
    "\n",
    "__Cours 2__ : Listes\n",
    "\n",
    "__Cours 3__ : Fonctions\n",
    "\n",
    "__Cours 4__ : Dictionnaires\n",
    "\n",
    "__Cours 5__ : Votre premier programme"
   ]
  },
  {
   "cell_type": "markdown",
   "metadata": {
    "slideshow": {
     "slide_type": "slide"
    }
   },
   "source": [
    "# Le classique Hello World\n",
    "\n",
    "*Ou pourquoi le python est un langage génial pour sa simplicité*"
   ]
  },
  {
   "cell_type": "code",
   "execution_count": 1,
   "metadata": {
    "slideshow": {
     "slide_type": "-"
    }
   },
   "outputs": [
    {
     "name": "stdout",
     "output_type": "stream",
     "text": [
      "Hello world\n"
     ]
    }
   ],
   "source": [
    "print(\"Hello world\")"
   ]
  },
  {
   "cell_type": "markdown",
   "metadata": {
    "slideshow": {
     "slide_type": "subslide"
    }
   },
   "source": [
    "Pour comparaison, ci-dessous des exemples dans quelques langages répandus:"
   ]
  },
  {
   "cell_type": "markdown",
   "metadata": {
    "cell_style": "split",
    "slideshow": {
     "slide_type": "fragment"
    }
   },
   "source": [
    "__C__\n",
    "```C\n",
    "#include <stdio.h>\n",
    "\n",
    "int main() {\n",
    "   printf(\"Hello World!\");\n",
    "   return 0;\n",
    "}\n",
    "```"
   ]
  },
  {
   "cell_type": "markdown",
   "metadata": {
    "cell_style": "split",
    "slideshow": {
     "slide_type": "fragment"
    }
   },
   "source": [
    "__Java__\n",
    "```java\n",
    "class HelloWorld {\n",
    "    public static void main(String[] args) {\n",
    "        System.out.println(\"Hello, World!\"); \n",
    "    }\n",
    "}\n",
    "```"
   ]
  },
  {
   "cell_type": "markdown",
   "metadata": {
    "cell_style": "center",
    "slideshow": {
     "slide_type": "fragment"
    }
   },
   "source": [
    "__Rust__\n",
    "```Rust\n",
    "fn main() {\n",
    "    println!(\"Hello World!\");\n",
    "}\n",
    "```"
   ]
  },
  {
   "cell_type": "markdown",
   "metadata": {
    "slideshow": {
     "slide_type": "subslide"
    }
   },
   "source": [
    "## A vous d'écrire votre propre Hello World !\n",
    "\n",
    "- https://www.online-python.com/ éditeur de python en ligne\n",
    "- https://repl.it/ plus complet mais nécessite un compte (vous pouvez utiliser votre compte Google ou Facebook)\n",
    "\n",
    "Vous pouvez maintenant tester par vous-même chaque ligne de code qui vous sera expliquée dans ce cours !"
   ]
  },
  {
   "cell_type": "markdown",
   "metadata": {
    "slideshow": {
     "slide_type": "slide"
    }
   },
   "source": [
    "# Assigner & Afficher des variables\n",
    "\n",
    "Une variable est un objet dont la valeur peut changer.\n",
    "\n",
    "En python on peut assigner toutes sortes de variables de la même manière :"
   ]
  },
  {
   "cell_type": "code",
   "execution_count": 2,
   "metadata": {},
   "outputs": [],
   "source": [
    "ma_variable_entière = 1\n",
    "ma_variable_décimale = 1.2\n",
    "ma_variable_texte = \"Je suis une variable\""
   ]
  },
  {
   "cell_type": "markdown",
   "metadata": {
    "slideshow": {
     "slide_type": "fragment"
    }
   },
   "source": [
    "Puis les afficher simplement avec une *f-string*"
   ]
  },
  {
   "cell_type": "code",
   "execution_count": 3,
   "metadata": {
    "scrolled": true
   },
   "outputs": [
    {
     "name": "stdout",
     "output_type": "stream",
     "text": [
      "J'affiche un entier : 1\n",
      "J'affiche un nombre décimal : 1.2\n",
      "Que suis-je ? Je suis une variable\n"
     ]
    }
   ],
   "source": [
    "print(f\"J'affiche un entier : {ma_variable_entière}\")\n",
    "print(f\"J'affiche un nombre décimal : {ma_variable_décimale}\")\n",
    "print(f\"Que suis-je ? {ma_variable_texte}\")"
   ]
  },
  {
   "cell_type": "markdown",
   "metadata": {
    "slideshow": {
     "slide_type": "subslide"
    }
   },
   "source": [
    "Nous avons dit précédemment que la valeur d'une variable pouvait changer, essayons !"
   ]
  },
  {
   "cell_type": "code",
   "execution_count": 4,
   "metadata": {},
   "outputs": [],
   "source": [
    "ma_variable_entière = ma_variable_entière / 2\n",
    "ma_variable_décimale = ma_variable_décimale + 0.8\n",
    "ma_variable_texte = ma_variable_texte + \" qui a changé\""
   ]
  },
  {
   "cell_type": "code",
   "execution_count": 5,
   "metadata": {
    "scrolled": false
   },
   "outputs": [
    {
     "name": "stdout",
     "output_type": "stream",
     "text": [
      "J'affiche un entier : 0.5\n",
      "J'affiche un nombre décimal : 2.0\n",
      "Que suis-je ? Je suis une variable qui a changé\n"
     ]
    }
   ],
   "source": [
    "print(f\"J'affiche un entier : {ma_variable_entière}\")\n",
    "print(f\"J'affiche un nombre décimal : {ma_variable_décimale}\")\n",
    "print(f\"Que suis-je ? {ma_variable_texte}\")"
   ]
  },
  {
   "cell_type": "markdown",
   "metadata": {
    "slideshow": {
     "slide_type": "slide"
    }
   },
   "source": [
    "# Les boucles\n",
    "\n",
    "*Ou comment automatiser les tâches répétitives*\n",
    "\n",
    "Les boucles permetter d'éxécuter une tâche un certain nombre de fois, comme par exemple ci-dessous compter les moutons"
   ]
  },
  {
   "cell_type": "code",
   "execution_count": 7,
   "metadata": {},
   "outputs": [
    {
     "name": "stdout",
     "output_type": "stream",
     "text": [
      "J'ai compté 0 moutons\n",
      "J'ai compté 1 moutons\n",
      "J'ai compté 2 moutons\n",
      "J'ai compté 3 moutons\n",
      "J'ai compté 4 moutons\n",
      "J'ai compté 5 moutons\n",
      "J'ai compté 6 moutons\n",
      "J'ai compté 7 moutons\n",
      "J'ai compté 8 moutons\n",
      "J'ai compté 9 moutons\n",
      "J'ai compté 10 moutons\n",
      "J'ai compté 11 moutons\n",
      "J'ai compté 12 moutons\n",
      "J'ai compté 13 moutons\n",
      "J'ai compté 14 moutons\n",
      "J'ai compté 15 moutons\n",
      "J'ai compté 16 moutons\n",
      "J'ai compté 17 moutons\n",
      "J'ai compté 18 moutons\n",
      "J'ai compté 19 moutons\n",
      "J'ai compté 20 moutons\n",
      "J'ai compté 21 moutons\n",
      "J'ai compté 22 moutons\n",
      "J'ai compté 23 moutons\n",
      "J'ai compté 24 moutons\n",
      "J'ai compté 25 moutons\n",
      "J'ai compté 26 moutons\n",
      "J'ai compté 27 moutons\n",
      "J'ai compté 28 moutons\n",
      "J'ai compté 29 moutons\n",
      "J'ai compté 30 moutons\n",
      "J'ai compté 31 moutons\n",
      "J'ai compté 32 moutons\n",
      "J'ai compté 33 moutons\n",
      "J'ai compté 34 moutons\n",
      "J'ai compté 35 moutons\n",
      "J'ai compté 36 moutons\n",
      "J'ai compté 37 moutons\n",
      "J'ai compté 38 moutons\n",
      "J'ai compté 39 moutons\n",
      "J'ai compté 40 moutons\n",
      "J'ai compté 41 moutons\n",
      "J'ai compté 42 moutons\n",
      "J'ai compté 43 moutons\n",
      "J'ai compté 44 moutons\n",
      "J'ai compté 45 moutons\n",
      "J'ai compté 46 moutons\n",
      "J'ai compté 47 moutons\n",
      "J'ai compté 48 moutons\n",
      "J'ai compté 49 moutons\n",
      "J'ai compté 50 moutons\n",
      "J'ai compté 51 moutons\n",
      "J'ai compté 52 moutons\n",
      "J'ai compté 53 moutons\n",
      "J'ai compté 54 moutons\n",
      "J'ai compté 55 moutons\n",
      "J'ai compté 56 moutons\n",
      "J'ai compté 57 moutons\n",
      "J'ai compté 58 moutons\n",
      "J'ai compté 59 moutons\n",
      "J'ai compté 60 moutons\n",
      "J'ai compté 61 moutons\n",
      "J'ai compté 62 moutons\n",
      "J'ai compté 63 moutons\n",
      "J'ai compté 64 moutons\n",
      "J'ai compté 65 moutons\n",
      "J'ai compté 66 moutons\n",
      "J'ai compté 67 moutons\n",
      "J'ai compté 68 moutons\n",
      "J'ai compté 69 moutons\n",
      "J'ai compté 70 moutons\n",
      "J'ai compté 71 moutons\n",
      "J'ai compté 72 moutons\n",
      "J'ai compté 73 moutons\n",
      "J'ai compté 74 moutons\n",
      "J'ai compté 75 moutons\n",
      "J'ai compté 76 moutons\n",
      "J'ai compté 77 moutons\n",
      "J'ai compté 78 moutons\n",
      "J'ai compté 79 moutons\n",
      "J'ai compté 80 moutons\n",
      "J'ai compté 81 moutons\n",
      "J'ai compté 82 moutons\n",
      "J'ai compté 83 moutons\n",
      "J'ai compté 84 moutons\n",
      "J'ai compté 85 moutons\n",
      "J'ai compté 86 moutons\n",
      "J'ai compté 87 moutons\n",
      "J'ai compté 88 moutons\n",
      "J'ai compté 89 moutons\n",
      "J'ai compté 90 moutons\n",
      "J'ai compté 91 moutons\n",
      "J'ai compté 92 moutons\n",
      "J'ai compté 93 moutons\n",
      "J'ai compté 94 moutons\n",
      "J'ai compté 95 moutons\n",
      "J'ai compté 96 moutons\n",
      "J'ai compté 97 moutons\n",
      "J'ai compté 98 moutons\n",
      "J'ai compté 99 moutons\n",
      "fini\n"
     ]
    }
   ],
   "source": [
    "for nombre_de_moutons in range(100):\n",
    "    print(f\"J'ai compté {nombre_de_moutons} moutons\")\n",
    "print(\"fini\")"
   ]
  },
  {
   "cell_type": "markdown",
   "metadata": {
    "slideshow": {
     "slide_type": "subslide"
    }
   },
   "source": [
    "Vous remarquerez ici que le nombre de moutons commence à 0 et finit à 99.\n",
    "\n",
    "C'est dû à la fonction `range()`, mais l'on peut modifier ses arguments pour changer le début et la fin la boucle.\n",
    "\n",
    "Par exemple :"
   ]
  },
  {
   "cell_type": "code",
   "execution_count": 8,
   "metadata": {},
   "outputs": [
    {
     "name": "stdout",
     "output_type": "stream",
     "text": [
      "Je suis le nombre 1\n",
      "Je suis le nombre 2\n",
      "Je suis le nombre 3\n",
      "Je suis le nombre 4\n",
      "Je suis le nombre 5\n",
      "Je suis le nombre 6\n",
      "Je suis le nombre 7\n",
      "Je suis le nombre 8\n",
      "Je suis le nombre 9\n",
      "Je suis le nombre 10\n"
     ]
    }
   ],
   "source": [
    "for nombre in range(1, 11):\n",
    "    print(f\"Je suis le nombre {nombre}\")"
   ]
  },
  {
   "cell_type": "markdown",
   "metadata": {
    "slideshow": {
     "slide_type": "subslide"
    }
   },
   "source": [
    "On peut également changer le *pas* de la boucle, c'est à dire la différence entre deux nombres consécutifs :"
   ]
  },
  {
   "cell_type": "code",
   "execution_count": 10,
   "metadata": {
    "slideshow": {
     "slide_type": "-"
    }
   },
   "outputs": [
    {
     "name": "stdout",
     "output_type": "stream",
     "text": [
      "Je suis le nombre 2\n",
      "Je suis le nombre 4\n",
      "Je suis le nombre 6\n",
      "Je suis le nombre 8\n",
      "Je suis le nombre 10\n"
     ]
    }
   ],
   "source": [
    "for nombre in range(2, 12, 2):\n",
    "    print(f\"Je suis le nombre {nombre}\")"
   ]
  },
  {
   "cell_type": "markdown",
   "metadata": {
    "slideshow": {
     "slide_type": "subslide"
    }
   },
   "source": [
    "On peut également utiliser une boucle pour faire des opérations quelconques, par exemple ici calculer les termes d'une suite géométrique de la forme $\\frac{1}{2^n}$"
   ]
  },
  {
   "cell_type": "code",
   "execution_count": 12,
   "metadata": {},
   "outputs": [
    {
     "name": "stdout",
     "output_type": "stream",
     "text": [
      "1\n",
      "0.5\n",
      "0.25\n",
      "0.125\n",
      "0.0625\n",
      "0.03125\n",
      "0.015625\n",
      "0.0078125\n",
      "0.00390625\n",
      "0.001953125\n",
      "0.0009765625\n"
     ]
    }
   ],
   "source": [
    "valeur = 1\n",
    "print(valeur)\n",
    "for n in range(10):\n",
    "    valeur = valeur / 2\n",
    "    print(valeur)"
   ]
  },
  {
   "cell_type": "markdown",
   "metadata": {
    "slideshow": {
     "slide_type": "slide"
    }
   },
   "source": [
    "# Les conditions\n",
    "\n",
    "Les conditions permettent d'effectuer des opérations différentes en fonction de la valeur d'une variable.\n",
    "\n",
    "Par exemple, on veut donner une réponse différente en fonction du prénom de notre interlocuteur récupéré grâce à la fonction `input()`"
   ]
  },
  {
   "cell_type": "code",
   "execution_count": 16,
   "metadata": {},
   "outputs": [
    {
     "name": "stdout",
     "output_type": "stream",
     "text": [
      "Quel est votre prénom ?\n",
      "zrgzergezrg\n",
      "Bonjour zrgzergezrg, je ne vous connais pas...\n"
     ]
    }
   ],
   "source": [
    "prénom = input(\"Quel est votre prénom ?\\n\")\n",
    "\n",
    "if prénom == \"Pierre\":\n",
    "    print(\"Bonjour Pierre, j'ai bien reçu ton mail hier !\")\n",
    "elif prénom == \"Paul\":\n",
    "    print(\"Bonjour Paul, tu me dois 5€ pour le Kébab !\")\n",
    "else:\n",
    "    print(f\"Bonjour {prénom}, je ne vous connais pas...\")"
   ]
  },
  {
   "cell_type": "markdown",
   "metadata": {
    "slideshow": {
     "slide_type": "notes"
    }
   },
   "source": [
    "`if` signifie ici \"Si\" et `elif` est le diminutif de *else if* qui signifie \"Sinon si\".\n",
    "\n",
    "`else` signifie \"Sinon\" et concerne du coup tous les cas non traités par les conditions précédentes."
   ]
  },
  {
   "cell_type": "markdown",
   "metadata": {
    "slideshow": {
     "slide_type": "subslide"
    }
   },
   "source": [
    "Nous avons utilisé ici un seul type de comparaison `==` qui vérifie l'égalité entre deux objets, mais l'on peut également utiliser les opérateurs suivants :\n",
    "\n",
    "- `!=` qui signifie __différent de__\n",
    "- `>` et `>=` qui signifient respectivement __supérieur__ et __supérieur ou égal__\n",
    "- `<` et `<=` qui signifient respectivement __inférieur__ et __inférieur ou égal__"
   ]
  },
  {
   "cell_type": "code",
   "execution_count": 21,
   "metadata": {
    "slideshow": {
     "slide_type": "subslide"
    }
   },
   "outputs": [
    {
     "name": "stdout",
     "output_type": "stream",
     "text": [
      "Quel nombre choisissez vous ?\n",
      "azdaf\n",
      "J'ai dit un NOMBRE !\n"
     ]
    }
   ],
   "source": [
    "mon_nombre = input(\"Quel nombre choisissez vous ?\\n\")\n",
    "\n",
    "try: # ne faites pas attention à cette ligne\n",
    "    \n",
    "    mon_nombre = int(mon_nombre) # on convertit le texte en nombre\n",
    "    \n",
    "    if mon_nombre != 666:\n",
    "        print(\"Ouf, vous n'êtes pas le diable\")\n",
    "    \n",
    "    if mon_nombre < 100:\n",
    "        print(\"Vous aimez les petits nombres\")\n",
    "\n",
    "    if mon_nombre >= 100:\n",
    "        print(\"Vous aimez les grands nombres\")\n",
    "        \n",
    "except ValueError: # l'explication de cette ligne est pour plus tard ;)\n",
    "    print(\"J'ai dit un NOMBRE !\")"
   ]
  },
  {
   "cell_type": "markdown",
   "metadata": {
    "slideshow": {
     "slide_type": "subslide"
    }
   },
   "source": [
    "Vous pouvez également combiner les conditions avec les opérateurs logiques suivants :\n",
    "\n",
    "- `and` et\n",
    "- `or` ou\n",
    "- `not` non (négation logique)"
   ]
  },
  {
   "cell_type": "code",
   "execution_count": 25,
   "metadata": {
    "slideshow": {
     "slide_type": "subslide"
    }
   },
   "outputs": [
    {
     "name": "stdout",
     "output_type": "stream",
     "text": [
      "Le nombre 1 n'est pas entre 10 et 20\n",
      "Le nombre 2 est entre 10 et 20\n",
      "Le nombre 1 n'est pas égal à 10\n"
     ]
    }
   ],
   "source": [
    "nombre1 = 9\n",
    "nombre2 = 12\n",
    "\n",
    "if nombre1 >= 10 and nombre1 <= 20:\n",
    "    print(\"Le nombre 1 est entre 10 et 20\")\n",
    "    \n",
    "if nombre1 < 10 or nombre1 > 20:\n",
    "    print(\"Le nombre 1 n'est pas entre 10 et 20\")\n",
    "    \n",
    "if nombre2 >= 10 and nombre2 <= 20:\n",
    "    print(\"Le nombre 2 est entre 10 et 20\")\n",
    "    \n",
    "if nombre2 < 10 or nombre2 > 20:\n",
    "    print(\"Le nombre 2 n'est pas entre 10 et 20\")\n",
    "    \n",
    "if nombre1 != 10:\n",
    "    print(\"Le nombre 1 n'est pas égal à 10\")"
   ]
  },
  {
   "cell_type": "markdown",
   "metadata": {
    "slideshow": {
     "slide_type": "slide"
    }
   },
   "source": [
    "# Mélanger boucle et condition\n",
    "\n",
    "La boucle `while` est une boucle qui continue tant qu'une condition est vraie, par exemple :"
   ]
  },
  {
   "cell_type": "code",
   "execution_count": 28,
   "metadata": {},
   "outputs": [
    {
     "name": "stdout",
     "output_type": "stream",
     "text": [
      "0\n",
      "1\n",
      "2\n"
     ]
    }
   ],
   "source": [
    "i = 0\n",
    "while i < 3:\n",
    "    print(i)\n",
    "    i += 1"
   ]
  },
  {
   "cell_type": "code",
   "execution_count": 30,
   "metadata": {
    "slideshow": {
     "slide_type": "subslide"
    }
   },
   "outputs": [
    {
     "name": "stdout",
     "output_type": "stream",
     "text": [
      "Quelle est la bonne réponse ? fae\n",
      "Quelle est la bonne réponse ? ?\n",
      "Quelle est la bonne réponse ? 42\n",
      "Bravo ! Vous avez trouvé la bonne réponse\n"
     ]
    }
   ],
   "source": [
    "bonne_réponse = False\n",
    "while not bonne_réponse:\n",
    "    réponse = input(\"Quelle est la bonne réponse ? \")\n",
    "    if réponse == \"42\":\n",
    "        bonne_réponse = True\n",
    "print(\"Bravo ! Vous avez trouvé la bonne réponse\")    "
   ]
  },
  {
   "cell_type": "markdown",
   "metadata": {
    "slideshow": {
     "slide_type": "slide"
    }
   },
   "source": [
    "__Fin du premier cours !__\n",
    "\n",
    "Merci pour votre attention :)"
   ]
  }
 ],
 "metadata": {
  "celltoolbar": "Diaporama",
  "kernelspec": {
   "display_name": "Python 3",
   "language": "python",
   "name": "python3"
  },
  "language_info": {
   "codemirror_mode": {
    "name": "ipython",
    "version": 3
   },
   "file_extension": ".py",
   "mimetype": "text/x-python",
   "name": "python",
   "nbconvert_exporter": "python",
   "pygments_lexer": "ipython3",
   "version": "3.9.5"
  },
  "toc": {
   "base_numbering": 1,
   "nav_menu": {},
   "number_sections": true,
   "sideBar": true,
   "skip_h1_title": false,
   "title_cell": "Table of Contents",
   "title_sidebar": "Contents",
   "toc_cell": false,
   "toc_position": {},
   "toc_section_display": true,
   "toc_window_display": false
  }
 },
 "nbformat": 4,
 "nbformat_minor": 4
}
