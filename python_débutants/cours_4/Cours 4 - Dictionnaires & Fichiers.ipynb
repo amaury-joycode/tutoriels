{
 "cells": [
  {
   "cell_type": "markdown",
   "id": "852beb47",
   "metadata": {
    "slideshow": {
     "slide_type": "slide"
    }
   },
   "source": [
    "# Cours 4 - Dictionnaires & Fichiers\n",
    "\n",
    "## Rappel du plan du cursus\n",
    "\n",
    "__Cours 1__ : Variables, boucles et conditions\n",
    "\n",
    "__Cours 2__ : Listes\n",
    "\n",
    "__Cours 3__ : Fonctions\n",
    "\n",
    "__Cours 4__ : Dictionnaires & Fichiers\n",
    "\n",
    "__Cours 5__ : Votre premier programme"
   ]
  },
  {
   "cell_type": "markdown",
   "id": "8b2c0f3e",
   "metadata": {
    "slideshow": {
     "slide_type": "subslide"
    }
   },
   "source": [
    "## Rappel des outils\n",
    "\n",
    "*Pour suivre le cours en codant en temps réel*\n",
    "\n",
    "- https://www.online-python.com/\n",
    "- https://repl.it/ (plus complet mais nécessite la création d'un compte, ou l'utilisation d'un compte Google / Facebook)"
   ]
  },
  {
   "attachments": {
    "image.png": {
     "image/png": "[encoded data removed]"
    }
   },
   "cell_type": "markdown",
   "id": "171b7da4",
   "metadata": {
    "slideshow": {
     "slide_type": "slide"
    }
   },
   "source": [
    "# Les dictionnaires en Python\n",
    "\n",
    "__Le dictionnaire en Python est une structure de données :__\n",
    "- qui permet de stocker des couples \"clé\", \"valeur\" (voir la clé comme une étiquette sur une boîte)\n",
    "- permettant ainsi d'accéder très rapidement à une valeur si l'on connaît sa clé\n",
    "- ce qui est dans certains cas plus pratique qu'une liste dont les indices sont forcément des nombres entiers\n",
    "\n",
    "![image.png](attachment:image.png)"
   ]
  },
  {
   "cell_type": "markdown",
   "id": "e2665dd7",
   "metadata": {
    "slideshow": {
     "slide_type": "subslide"
    }
   },
   "source": [
    "## Exemple de dictionnaire"
   ]
  },
  {
   "cell_type": "code",
   "execution_count": 1,
   "id": "d06a72b1",
   "metadata": {},
   "outputs": [
    {
     "data": {
      "text/plain": [
       "['Comté', 'Roquefort']"
      ]
     },
     "execution_count": 1,
     "metadata": {},
     "output_type": "execute_result"
    }
   ],
   "source": [
    "garde_manger = {\n",
    "    \"Fromage\": [\"Comté\", \"Roquefort\"],\n",
    "    \"Fruits\": [\"Pomme\", \"Poire\"],\n",
    "    \"Légumes\": [\"Poireau\", \"Carotte\"],\n",
    "}\n",
    "\n",
    "garde_manger[\"Fromage\"]"
   ]
  },
  {
   "cell_type": "code",
   "execution_count": 2,
   "id": "302b26b7",
   "metadata": {
    "slideshow": {
     "slide_type": "fragment"
    }
   },
   "outputs": [
    {
     "data": {
      "text/plain": [
       "{'tiroir': 'chausettes', 'placard': ['costumes', 'chemises']}"
      ]
     },
     "execution_count": 2,
     "metadata": {},
     "output_type": "execute_result"
    }
   ],
   "source": [
    "rangement = {}\n",
    "rangement[\"tiroir\"] = \"chausettes\"\n",
    "rangement[\"placard\"] = [\"costumes\", \"chemises\"]\n",
    "rangement"
   ]
  },
  {
   "cell_type": "markdown",
   "id": "e47cda65",
   "metadata": {
    "slideshow": {
     "slide_type": "subslide"
    }
   },
   "source": [
    "## Manipuler un dictionnaire : bases"
   ]
  },
  {
   "cell_type": "code",
   "execution_count": 3,
   "id": "e0b61982",
   "metadata": {},
   "outputs": [
    {
     "name": "stdout",
     "output_type": "stream",
     "text": [
      "Fromage\n",
      "Fruits\n",
      "Légumes\n"
     ]
    }
   ],
   "source": [
    "for boîte in garde_manger:\n",
    "    print(boîte)"
   ]
  },
  {
   "cell_type": "code",
   "execution_count": 4,
   "id": "3fda4020",
   "metadata": {
    "slideshow": {
     "slide_type": "fragment"
    }
   },
   "outputs": [
    {
     "name": "stdout",
     "output_type": "stream",
     "text": [
      "['Comté', 'Roquefort']\n",
      "['Pomme', 'Poire']\n",
      "['Poireau', 'Carotte']\n"
     ]
    }
   ],
   "source": [
    "for contenu in garde_manger.values():\n",
    "    print(contenu)"
   ]
  },
  {
   "cell_type": "code",
   "execution_count": 5,
   "id": "2e04a50e",
   "metadata": {
    "slideshow": {
     "slide_type": "fragment"
    }
   },
   "outputs": [
    {
     "name": "stdout",
     "output_type": "stream",
     "text": [
      "Fromage: ['Comté', 'Roquefort']\n",
      "Fruits: ['Pomme', 'Poire']\n",
      "Légumes: ['Poireau', 'Carotte']\n"
     ]
    }
   ],
   "source": [
    "for boîte, contenu in garde_manger.items():\n",
    "    print(f\"{boîte}: {contenu}\")"
   ]
  },
  {
   "cell_type": "markdown",
   "id": "a032f5f5",
   "metadata": {
    "slideshow": {
     "slide_type": "subslide"
    }
   },
   "source": [
    "## Manipulations avancées\n",
    "\n",
    "Obtenir une liste des clés ou valeurs d'un dictionnaire"
   ]
  },
  {
   "cell_type": "code",
   "execution_count": 6,
   "id": "6343b82a",
   "metadata": {},
   "outputs": [
    {
     "data": {
      "text/plain": [
       "['Fromage', 'Fruits', 'Légumes']"
      ]
     },
     "execution_count": 6,
     "metadata": {},
     "output_type": "execute_result"
    }
   ],
   "source": [
    "list(garde_manger.keys())"
   ]
  },
  {
   "cell_type": "code",
   "execution_count": 7,
   "id": "5cf8a15f",
   "metadata": {
    "slideshow": {
     "slide_type": "fragment"
    }
   },
   "outputs": [
    {
     "data": {
      "text/plain": [
       "[['Comté', 'Roquefort'], ['Pomme', 'Poire'], ['Poireau', 'Carotte']]"
      ]
     },
     "execution_count": 7,
     "metadata": {},
     "output_type": "execute_result"
    }
   ],
   "source": [
    "list(garde_manger.values())"
   ]
  },
  {
   "cell_type": "markdown",
   "id": "444435da",
   "metadata": {
    "slideshow": {
     "slide_type": "slide"
    }
   },
   "source": [
    "# Lire et écrire des fichiers\n",
    "\n",
    "Par exemple pour:\n",
    "- charger des données depuis un fichier texte ou CSV\n",
    "- sauvegarder un état entre deux exécutions d'un programme (en l'absence de base de données)\n",
    "- permettre à l'utilisateur de spécifier des paramètres de configuration."
   ]
  },
  {
   "cell_type": "code",
   "execution_count": 10,
   "id": "5c713ace",
   "metadata": {},
   "outputs": [],
   "source": [
    "# écriture\n",
    "with open(\"mon_fichier.txt\", \"w\") as sortie:\n",
    "    sortie.write(\"toto\")"
   ]
  },
  {
   "cell_type": "code",
   "execution_count": 11,
   "id": "71c63cfe",
   "metadata": {},
   "outputs": [
    {
     "name": "stdout",
     "output_type": "stream",
     "text": [
      "toto\n"
     ]
    }
   ],
   "source": [
    "# lecture, le second argument, \"r\" peut être omis\n",
    "with open(\"mon_fichier.txt\", \"r\") as entrée:\n",
    "    contenu = entrée.read()\n",
    "    print(contenu)"
   ]
  },
  {
   "cell_type": "markdown",
   "id": "655dc7db",
   "metadata": {
    "slideshow": {
     "slide_type": "subslide"
    }
   },
   "source": [
    "## Ajouter des données à la fin d'un fichier\n",
    "\n",
    "Sans l'écraser, contrairement au mode `\"w\"`"
   ]
  },
  {
   "cell_type": "code",
   "execution_count": 18,
   "id": "223a107e",
   "metadata": {},
   "outputs": [
    {
     "name": "stdout",
     "output_type": "stream",
     "text": [
      "toto-titi-titi-titi-titi-titi-titi-titi\n"
     ]
    }
   ],
   "source": [
    "# ajout\n",
    "with open(\"mon_fichier.txt\", \"a\") as sortie:\n",
    "    sortie.write(\"-titi\")\n",
    "    \n",
    "with open(\"mon_fichier.txt\") as entrée:\n",
    "    print(entrée.read())"
   ]
  },
  {
   "cell_type": "markdown",
   "id": "e50c8436",
   "metadata": {
    "slideshow": {
     "slide_type": "subslide"
    }
   },
   "source": [
    "## Lire et écrire plusieurs lignes"
   ]
  },
  {
   "cell_type": "code",
   "execution_count": 19,
   "id": "c6fdabd1",
   "metadata": {},
   "outputs": [],
   "source": [
    "prénoms = [\"Pierre\", \"Paul\", \"Jacques\"]\n",
    "\n",
    "with open(\"prénoms.txt\", \"w\") as sortie:\n",
    "    for prénom in prénoms:\n",
    "        sortie.write(prénom + \"\\n\")"
   ]
  },
  {
   "cell_type": "code",
   "execution_count": 22,
   "id": "8f796181",
   "metadata": {
    "slideshow": {
     "slide_type": "fragment"
    }
   },
   "outputs": [
    {
     "name": "stdout",
     "output_type": "stream",
     "text": [
      "Pierre\n",
      "Paul\n",
      "Jacques\n"
     ]
    }
   ],
   "source": [
    "with open(\"prénoms.txt\") as entrée:\n",
    "    for ligne in entrée:\n",
    "        print(ligne.strip())"
   ]
  },
  {
   "cell_type": "code",
   "execution_count": 23,
   "id": "30eab142",
   "metadata": {
    "slideshow": {
     "slide_type": "fragment"
    }
   },
   "outputs": [
    {
     "name": "stdout",
     "output_type": "stream",
     "text": [
      "['Pierre\\n', 'Paul\\n', 'Jacques\\n']\n"
     ]
    }
   ],
   "source": [
    "with open(\"prénoms.txt\") as entrée:\n",
    "    print(entrée.readlines())"
   ]
  },
  {
   "cell_type": "markdown",
   "id": "1a2c9b7b",
   "metadata": {
    "slideshow": {
     "slide_type": "slide"
    }
   },
   "source": [
    "# Mise en pratique : fréquence des lettres\n",
    "\n",
    "Compter le nombre de fois que chaque lettre apparaît dans un texte."
   ]
  },
  {
   "cell_type": "code",
   "execution_count": 24,
   "id": "84c94480",
   "metadata": {},
   "outputs": [],
   "source": [
    "texte = \"\"\"Maître Corbeau sur un arbre perché,\n",
    "Tenait en son bec un fromage.\n",
    "Maître Renard par l’odeur alléché\n",
    "Lui tint à peu près ce langage :\n",
    "Et bonjour, Monsieur du Corbeau.\n",
    "Que vous êtes joli ! que vous me semblez beau !\n",
    "Sans mentir, si votre ramage\n",
    "Se rapporte à votre plumage,\n",
    "Vous êtes le Phenix des hôtes de ces bois.\n",
    "À ces mots le Corbeau ne se sent pas de joie :\n",
    "Et pour montrer sa belle voix,\n",
    "Il ouvre un large bec, laisse tomber sa proie.\n",
    "Le Renard s’en saisit, et dit : Mon bon Monsieur,\n",
    "Apprenez que tout flatteur\n",
    "Vit aux dépens de celui qui l’écoute.\n",
    "Cette leçon vaut bien un fromage sans doute.\n",
    "Le Corbeau honteux et confus\n",
    "Jura, mais un peu tard, qu’on ne l’y prendrait plus.\"\"\"\n",
    "\n",
    "with open(\"fable.txt\", \"w\") as sortie:\n",
    "    sortie.write(texte)"
   ]
  },
  {
   "cell_type": "markdown",
   "id": "9449eb56",
   "metadata": {
    "slideshow": {
     "slide_type": "subslide"
    }
   },
   "source": [
    "## Lire le fichier et compter les lettres"
   ]
  },
  {
   "cell_type": "code",
   "execution_count": 25,
   "id": "7efd1692",
   "metadata": {},
   "outputs": [
    {
     "data": {
      "text/plain": [
       "{'m': 16,\n",
       " 'a': 37,\n",
       " 'î': 2,\n",
       " 't': 36,\n",
       " 'r': 41,\n",
       " 'e': 82,\n",
       " ' ': 113,\n",
       " 'c': 15,\n",
       " 'o': 37,\n",
       " 'b': 15,\n",
       " 'u': 41,\n",
       " 's': 37,\n",
       " 'n': 34,\n",
       " 'p': 17,\n",
       " 'h': 5,\n",
       " 'é': 5,\n",
       " ',': 10,\n",
       " 'i': 24,\n",
       " 'f': 4,\n",
       " 'g': 7,\n",
       " '.': 7,\n",
       " 'd': 13,\n",
       " 'l': 23,\n",
       " '’': 5,\n",
       " 'à': 3,\n",
       " 'è': 1,\n",
       " ':': 3,\n",
       " 'j': 4,\n",
       " 'q': 5,\n",
       " 'v': 9,\n",
       " 'ê': 2,\n",
       " '!': 2,\n",
       " 'z': 2,\n",
       " 'x': 4,\n",
       " 'ô': 1,\n",
       " 'ç': 1,\n",
       " 'y': 1}"
      ]
     },
     "execution_count": 25,
     "metadata": {},
     "output_type": "execute_result"
    }
   ],
   "source": [
    "fréquences = {}\n",
    "\n",
    "with open(\"fable.txt\") as entrée:\n",
    "    for ligne in entrée:\n",
    "        for caractère in ligne.strip():\n",
    "            lettre = caractère.lower()\n",
    "            if lettre in fréquences:\n",
    "                fréquences[lettre] += 1\n",
    "            else:\n",
    "                fréquences[lettre] = 1\n",
    "\n",
    "fréquences"
   ]
  },
  {
   "cell_type": "markdown",
   "id": "6e2acb5b",
   "metadata": {
    "slideshow": {
     "slide_type": "subslide"
    }
   },
   "source": [
    "## Bonus : Top 10 des fréquences\n",
    "\n",
    "Calculer le top 10 des lettres les plus utilisées"
   ]
  },
  {
   "cell_type": "code",
   "execution_count": 26,
   "id": "c4a5638d",
   "metadata": {},
   "outputs": [
    {
     "name": "stdout",
     "output_type": "stream",
     "text": [
      "['e', 'r', 'u', 'a', 'o', 's', 't', 'n', 'i', 'l']\n",
      "[82, 41, 41, 37, 37, 37, 36, 34, 24, 23]\n"
     ]
    }
   ],
   "source": [
    "# supprimer l'espace qui apporte peu d'info\n",
    "if \" \" in fréquences:\n",
    "    fréquences.pop(\" \")\n",
    "    \n",
    "# trier le dictionnaire\n",
    "top_freq = dict(sorted(fréquences.items(), key=lambda item: item[1], reverse=True))\n",
    "\n",
    "# séparer les lettres de leur fréquence, en gardant seulement le top 10\n",
    "top_lettres = list(top_freq.keys())[:10]\n",
    "top_valeurs = list(top_freq.values())[:10]\n",
    "\n",
    "print(top_lettres)\n",
    "print(top_valeurs)"
   ]
  },
  {
   "cell_type": "markdown",
   "id": "861aaac0",
   "metadata": {
    "slideshow": {
     "slide_type": "subslide"
    }
   },
   "source": [
    "## Bonus 2 : Afficher un histogramme !"
   ]
  },
  {
   "cell_type": "code",
   "execution_count": 27,
   "id": "c70493b8",
   "metadata": {},
   "outputs": [
    {
     "name": "stdout",
     "output_type": "stream",
     "text": [
      "Voilà !\n"
     ]
    },
    {
     "data": {
      "image/png": "[encoded data removed]",
      "text/plain": [
       "<Figure size 432x288 with 1 Axes>"
      ]
     },
     "metadata": {
      "needs_background": "light"
     },
     "output_type": "display_data"
    }
   ],
   "source": [
    "from matplotlib import pyplot as plt\n",
    "\n",
    "plt.bar(top_lettres, top_valeurs)\n",
    "\n",
    "print(\"Voilà !\")"
   ]
  }
 ],
 "metadata": {
  "celltoolbar": "Diaporama",
  "kernelspec": {
   "display_name": "Python 3",
   "language": "python",
   "name": "python3"
  },
  "language_info": {
   "codemirror_mode": {
    "name": "ipython",
    "version": 3
   },
   "file_extension": ".py",
   "mimetype": "text/x-python",
   "name": "python",
   "nbconvert_exporter": "python",
   "pygments_lexer": "ipython3",
   "version": "3.9.5"
  },
  "toc": {
   "base_numbering": 1,
   "nav_menu": {},
   "number_sections": true,
   "sideBar": true,
   "skip_h1_title": false,
   "title_cell": "Table of Contents",
   "title_sidebar": "Contents",
   "toc_cell": false,
   "toc_position": {},
   "toc_section_display": true,
   "toc_window_display": false
  }
 },
 "nbformat": 4,
 "nbformat_minor": 5
}
